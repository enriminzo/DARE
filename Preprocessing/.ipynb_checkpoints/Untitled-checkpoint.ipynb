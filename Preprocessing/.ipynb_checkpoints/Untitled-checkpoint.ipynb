{
 "cells": [
  {
   "cell_type": "code",
   "execution_count": 1,
   "id": "351881a1-5dcf-430c-b529-a0739c735eae",
   "metadata": {
    "tags": []
   },
   "outputs": [],
   "source": [
    "import sys\n",
    "sys.path.append('/home/enrico/transformer_final/')\n",
    "\n",
    "from omegaconf import OmegaConf\n"
   ]
  },
  {
   "cell_type": "code",
   "execution_count": 2,
   "id": "a62754b8-8c9a-44fb-9e5a-74b46762b99e",
   "metadata": {
    "tags": []
   },
   "outputs": [],
   "source": [
    "#from Model.utils import WeigthedBCELoss, import_bert,rnn_diags\n",
    "from Model.Datasets import Dataset_FT\n",
    "\n",
    "from torch.utils.data.sampler import SubsetRandomSampler\n",
    "from sklearn.metrics import roc_auc_score\n",
    "from sklearn.utils.class_weight import compute_class_weight\n",
    "from sklearn.model_selection import KFold\n",
    "\n",
    "import numpy as np\n",
    "import torch\n",
    "import torch.nn as nn\n",
    "import pickle\n",
    "import warnings\n",
    "import tqdm"
   ]
  },
  {
   "cell_type": "code",
   "execution_count": 4,
   "id": "e0fd9960-3069-49a3-a696-b9a1db029422",
   "metadata": {
    "tags": []
   },
   "outputs": [
    {
     "ename": "ImportError",
     "evalue": "cannot import name 'BERT_pretraining' from 'Model.bert_PT' (/home/enrico/transformer_final/Model/bert_PT.py)",
     "output_type": "error",
     "traceback": [
      "\u001b[0;31m---------------------------------------------------------------------------\u001b[0m",
      "\u001b[0;31mImportError\u001b[0m                               Traceback (most recent call last)",
      "Cell \u001b[0;32mIn[4], line 8\u001b[0m\n\u001b[1;32m      1\u001b[0m \u001b[38;5;66;03m#from Model_old.bert_pretraining import BERT_pretraining\u001b[39;00m\n\u001b[1;32m      2\u001b[0m \u001b[38;5;66;03m#from Model_old.bert import BERT\u001b[39;00m\n\u001b[1;32m      3\u001b[0m \u001b[38;5;66;03m#from Model_old.trainer import BERTpetrainer\u001b[39;00m\n\u001b[1;32m      4\u001b[0m \u001b[38;5;66;03m#from Model_old.utils_Bert import BertConfig\u001b[39;00m\n\u001b[1;32m      5\u001b[0m \u001b[38;5;66;03m#from Model_old.utils_cods_list_DM2 import diags_labs, drugs_labs, vars_list\u001b[39;00m\n\u001b[1;32m      6\u001b[0m \u001b[38;5;66;03m#from Model_old.bert import BERT\u001b[39;00m\n\u001b[0;32m----> 8\u001b[0m \u001b[38;5;28;01mfrom\u001b[39;00m \u001b[38;5;21;01mModel\u001b[39;00m\u001b[38;5;21;01m.\u001b[39;00m\u001b[38;5;21;01mbert_PT\u001b[39;00m \u001b[38;5;28;01mimport\u001b[39;00m BERT_pretraining\n\u001b[1;32m      9\u001b[0m \u001b[38;5;28;01mfrom\u001b[39;00m \u001b[38;5;21;01mModel\u001b[39;00m\u001b[38;5;21;01m.\u001b[39;00m\u001b[38;5;21;01mbert\u001b[39;00m \u001b[38;5;28;01mimport\u001b[39;00m BERT\n",
      "\u001b[0;31mImportError\u001b[0m: cannot import name 'BERT_pretraining' from 'Model.bert_PT' (/home/enrico/transformer_final/Model/bert_PT.py)"
     ]
    }
   ],
   "source": [
    "#from Model_old.bert_pretraining import BERT_pretraining\n",
    "#from Model_old.bert import BERT\n",
    "#from Model_old.trainer import BERTpetrainer\n",
    "#from Model_old.utils_Bert import BertConfig\n",
    "#from Model_old.utils_cods_list_DM2 import diags_labs, drugs_labs, vars_list\n",
    "#from Model_old.bert import BERT\n",
    "\n",
    "from Model.bert_PT import BERT_PT\n",
    "from Model.bert import BERT"
   ]
  },
  {
   "cell_type": "code",
   "execution_count": null,
   "id": "1facfbf5-a6c1-4f08-9705-c14241c4a37c",
   "metadata": {},
   "outputs": [],
   "source": []
  },
  {
   "cell_type": "code",
   "execution_count": 4,
   "id": "6a999b2a-9a2a-40e5-9d10-86c4a4c7ad5f",
   "metadata": {
    "tags": []
   },
   "outputs": [],
   "source": [
    "class WeigthedBCELoss(torch.nn.Module):\n",
    "    def __init__(self, mask_val=-1, weights=None, device=None ):\n",
    "        super(WeigthedBCELoss, self).__init__()\n",
    "        self.loss_fun = nn.BCELoss(reduction = 'none')\n",
    "        self.weights = weights\n",
    "        if device is None:\n",
    "            self.device = torch.device(\"cuda\" if torch.cuda.is_available() else \"cpu\")\n",
    "        else:\n",
    "            self.device = device\n",
    "            \n",
    "    def forward(self, prediction, target):\n",
    "        \n",
    "        if self.weights is not None:\n",
    "            bs, cls = target.shape\n",
    "            pred_length = 4\n",
    "            w1 = np.tile(self.weights[1,:], (bs,pred_length))\n",
    "            w1 = torch.tensor(w1).to(self.device)*(target==1)\n",
    "            w0 = np.tile(self.weights[0,:], (bs,pred_length))\n",
    "            w0 = torch.tensor(w0).to(self.device)*(target==0)\n",
    "            loss = self.loss_fun(prediction, target)*(w0+w1)\n",
    "        else:\n",
    "            loss = self.loss_fun(prediction, target)\n",
    "            \n",
    "        return torch.mean(loss)"
   ]
  },
  {
   "cell_type": "code",
   "execution_count": 5,
   "id": "f73f9cf2-701b-4680-9225-4e8eb776afb6",
   "metadata": {
    "tags": []
   },
   "outputs": [],
   "source": [
    "def import_bert(config):\n",
    "    device = torch.device(\"cuda\")\n",
    "    #model_path = f'/home/enrico/transformer/results/BERT_{n_model}/BERT_trained.model.ep{epoch}'\n",
    "    model_path = '/home/enrico/transformer/results/models_pretrained/DM2/trans_DM2_attnheads18_hiddens360_layers3.ep9'\n",
    "    #model_path = '/home/enrico/transformer/results/models_pretrained/DM2/new_experiments/trans_DM2_attnheads12_hidden288_layers6'\n",
    "    model = BERT_pretraining(BERT(config), len(diags_labs), len(drugs_labs), config.Embedding.nv)\n",
    "    #model.load_state_dict(torch.load(model_path, map_location=device)['model_state_dict'])\n",
    "    model.load_state_dict(torch.load(model_path, map_location=device))\n",
    "    return model.bert"
   ]
  },
  {
   "cell_type": "code",
   "execution_count": 19,
   "id": "ac037c8a-1c51-4966-869b-a6bd132af244",
   "metadata": {
    "tags": []
   },
   "outputs": [],
   "source": [
    "# Define models\n",
    "class rnn_diags(torch.nn.Module):\n",
    "    def __init__(self, input_size, n_grus, layers_size, out_size=20):\n",
    "        super().__init__()\n",
    "        self.rnn = nn.GRU(input_size, layers_size[0], num_layers=n_grus, batch_first=True, bidirectional=True) \n",
    "        \n",
    "        self.linears = nn.ModuleList(\n",
    "            [nn.Linear(layers_size[i-1],layers_size[i]) if i!=1 else nn.Linear(2*layers_size[i-1],layers_size[i]) for i in range(1,len(layers_size))])\n",
    "        self.act = nn.ReLU()\n",
    "        self.out = nn.Linear(layers_size[-1], out_size)\n",
    "        self.act_out = nn.Sigmoid()\n",
    "        \n",
    "        \n",
    "    def forward(self, x):\n",
    "        \n",
    "        self.rnn.flatten_parameters()\n",
    "        x, _ = self.rnn(x)\n",
    "        x = x[:,-1,:]\n",
    "        for lay in self.linears:\n",
    "            x = self.act(lay(x))\n",
    "        return self.act_out(self.out(x))"
   ]
  },
  {
   "cell_type": "code",
   "execution_count": 7,
   "id": "ba3ef0f7-0e95-4c86-964a-fb821eabe662",
   "metadata": {
    "tags": []
   },
   "outputs": [],
   "source": [
    "vars_to_use = ['p0', 'd0', 'm0', 'd_all','m_all', 'v_all', 't_all', 'types_all', 'dists', 'd0_2015', 'd0_2016', 'd0_2017', 'd0_2018']\n",
    "    \n",
    "\n",
    "def train_iteration(model, data_loader, epoch, log_freq=20):\n",
    "    \n",
    "    data_iter = tqdm.tqdm(enumerate(data_loader),\n",
    "                              desc=\"EP_%s:%d\" % ('train', epoch),\n",
    "                              total=len(data_loader),\n",
    "                              bar_format=\"{l_bar}{r_bar}\")\n",
    "    warnings.filterwarnings('ignore', \"Max number of events reached, some events were removed!\")\n",
    "    avg_loss = 0\n",
    "    for i, data in data_iter:\n",
    "        # 0. batch_data will be sent into the device(GPU or cpu)\n",
    "        \n",
    "        data = {key: value.to(device) for key, value in data.items() if key in vars_to_use}\n",
    "        # 1. forward\n",
    "        outs = bert.forward(data['p0'], data['d0'], data['m0'], data['d_all'], data['m_all'], data['v_all'], data['t_all'] , data['types_all'], data['dists'])\n",
    "        outs = model.forward(outs)\n",
    "        # 2. get loss\n",
    "        labs = torch.cat((data['d0_2015'], data['d0_2016'], data['d0_2017'], data['d0_2018']), dim=1).float()\n",
    "        batch_loss = loss(outs, labs)\n",
    "        # 3. backpropagation\n",
    "        optim.zero_grad()\n",
    "        batch_loss.backward()\n",
    "        optim.step()\n",
    "        # 4. print losses \n",
    "        avg_loss += batch_loss.item()\n",
    "        post_fix = {\n",
    "                \"epoch\": epoch,\n",
    "                \"iter\": i,\n",
    "                \"avg_loss\": round(avg_loss / (i+1), 3)}\n",
    "        #if i % log_freq == 0:\n",
    "        #    print(i)\n",
    "        #    data_iter.write(str(post_fix))\n",
    "    print('END TRAIN EPOCH')\n",
    "    print(str(post_fix))\n",
    "    return post_fix\n",
    "\n",
    "def test_iteration(model, data_loader, epoch, log_freq=20):\n",
    "    \n",
    "    data_iter = tqdm.tqdm(enumerate(data_loader),\n",
    "                              desc=\"EP_%s:%d\" % ('test', epoch),\n",
    "                              total=len(data_loader),\n",
    "                              bar_format=\"{l_bar}{r_bar}\")\n",
    "    warnings.filterwarnings('ignore', \"Max number of events reached, some events were removed!\")\n",
    "    avg_loss, avg_roc = 0, 0\n",
    "    model.eval()\n",
    "    i_tmp = 0\n",
    "    idps_all = []\n",
    "    for i, data in data_iter:\n",
    "        \n",
    "        # 0. batch_data will be sent into the device(GPU or cpu)\n",
    "        idps_tmp = data['idp']\n",
    "        data = {key: value.to(device) for key, value in data.items() if key in vars_to_use}\n",
    "        # 1. forward\n",
    "        with torch.no_grad():\n",
    "            outs = bert.forward(data['p0'], data['d0'], data['m0'], data['d_all'], data['m_all'], data['v_all'], data['t_all'] , data['types_all'], data['dists'])\n",
    "            outs = model.forward(outs)\n",
    "            # 2. get loss\n",
    "            labs = torch.cat((data['d0_2015'], data['d0_2016'], data['d0_2017'], data['d0_2018']), dim=1).float()\n",
    "            batch_loss = loss(outs, labs)\n",
    "        # 3. print losses \n",
    "        avg_loss += batch_loss.item()\n",
    "        idps_all += idps_tmp\n",
    "        try:\n",
    "            outs_all = torch.cat((outs_all, outs.cpu()))\n",
    "            labs_all = torch.cat((labs_all, labs.cpu()))\n",
    "        except Exception as e:\n",
    "            outs_all = outs.cpu()\n",
    "            labs_all = labs.cpu()\n",
    "        \n",
    "        post_fix = {\n",
    "                \"epoch\": epoch,\n",
    "                \"iter\": i,\n",
    "                \"avg_loss\": avg_loss / (i+1)}\n",
    "        #if i % log_freq == 0:\n",
    "        #    print(i)\n",
    "        #    data_iter.write(str(post_fix))\n",
    "    print('END TEST EPOCH')\n",
    "    try:\n",
    "        avg_roc = roc_auc_score(labs_all, outs_all)\n",
    "    except Exception as e: \n",
    "        avg_roc = np.nan\n",
    "        print(f'NAN for batch {i}, epoch {epoch}')\n",
    "    post_fix['avg_roc'] = avg_roc\n",
    "    print(str(post_fix))\n",
    "    for ind in range(labs_all.shape[1]):\n",
    "        try:\n",
    "            post_fix[f'avg_roc_{2014+ind}'] = roc_auc_score(labs_all[:,ind], outs_all[:,ind])\n",
    "        except Exception as e: \n",
    "            post_fix[f'avg_roc_{2014+ind}'] = np.nan\n",
    "    print('--------------------------------------')\n",
    "    model.train()\n",
    "    return post_fix, labs_all, outs_all, idps_all"
   ]
  },
  {
   "cell_type": "code",
   "execution_count": 6,
   "id": "a1e15b85-b8ad-4883-ad5e-b301cb6fbd5b",
   "metadata": {
    "tags": []
   },
   "outputs": [],
   "source": [
    "n_layer=3\n",
    "nmax=40\n",
    "hidden_size=360\n",
    "time_emb='learn'\n",
    "attn_heads=18\n",
    "learn=True\n",
    "relative=True\n",
    "n_epochs = 10\n",
    "batch = 64\n",
    "#n_layer=6\n",
    "#nmax=40\n",
    "#hidden_size=288\n",
    "#time_emb='learn'\n",
    "#attn_heads=12\n",
    "#learn=True\n",
    "#relative=True\n",
    "#n_epochs = 50\n",
    "#batch = 128\n",
    "config_old = BertConfig(n_layer=n_layer, nmax=nmax, hidden_size=hidden_size, attn_heads=attn_heads, time_emb=time_emb, learn=learn, relative=relative)"
   ]
  },
  {
   "cell_type": "code",
   "execution_count": 8,
   "id": "e7f07720-51a9-42f4-9522-13ffe5613a11",
   "metadata": {
    "tags": []
   },
   "outputs": [],
   "source": [
    "config = OmegaConf.load('/home/enrico/transformer_final/Configs/configs_std.yaml')\n",
    "paths = OmegaConf.load('/home/enrico/transformer_final/Configs/data_paths.yaml')\n",
    "n_epochs = 10\n",
    "batch = 64\n",
    "with open(paths.idps_tests, 'rb') as f:\n",
    "    idps_test = pickle.load(f)\n",
    "\n",
    "ds = Dataset_FT(paths, config, idps_test)"
   ]
  },
  {
   "cell_type": "code",
   "execution_count": 10,
   "id": "9d9b35b9-114b-461f-b4e9-c70e30ff35dc",
   "metadata": {
    "collapsed": true,
    "jupyter": {
     "outputs_hidden": true
    },
    "tags": []
   },
   "outputs": [
    {
     "data": {
      "text/plain": [
       "BERT(\n",
       "  (embedding): InputEmbedding(\n",
       "    (P0_embeddings): Linear(in_features=3, out_features=360, bias=True)\n",
       "    (d_embeddings): Linear(in_features=181, out_features=360, bias=False)\n",
       "    (m_embeddings): Linear(in_features=13, out_features=360, bias=False)\n",
       "    (v_embeddings): Linear(in_features=20, out_features=360, bias=False)\n",
       "    (type_embeddings): Embedding(7, 360, padding_idx=6)\n",
       "    (time_embeddings): Embedding(367, 360, padding_idx=366)\n",
       "    (LayerNorm): LayerNorm((360,), eps=1e-05, elementwise_affine=True)\n",
       "    (dropout): Dropout(p=0.1, inplace=False)\n",
       "  )\n",
       "  (transformer_blocks): ModuleList(\n",
       "    (0): TransformerBlock(\n",
       "      (attention): MultiHeadedRelativeAttention(\n",
       "        (linear_layers): ModuleList(\n",
       "          (0): Linear(in_features=360, out_features=360, bias=True)\n",
       "          (1): Linear(in_features=360, out_features=360, bias=True)\n",
       "          (2): Linear(in_features=360, out_features=360, bias=True)\n",
       "        )\n",
       "        (output_linear): Linear(in_features=360, out_features=360, bias=True)\n",
       "        (attention): RelativeAttention()\n",
       "        (dropout): Dropout(p=0.1, inplace=False)\n",
       "        (posEmbedding): RelativePositionalEmbedding(\n",
       "          (r_embedding): Embedding(367, 360, padding_idx=366)\n",
       "        )\n",
       "      )\n",
       "      (feed_forward): PositionwiseFeedForward(\n",
       "        (w_1): Linear(in_features=360, out_features=1440, bias=True)\n",
       "        (w_2): Linear(in_features=1440, out_features=360, bias=True)\n",
       "        (dropout): Dropout(p=0.1, inplace=False)\n",
       "        (activation): GELU()\n",
       "      )\n",
       "      (input_sublayer): SublayerConnection(\n",
       "        (norm): LayerNorm()\n",
       "        (dropout): Dropout(p=0.1, inplace=False)\n",
       "      )\n",
       "      (output_sublayer): SublayerConnection(\n",
       "        (norm): LayerNorm()\n",
       "        (dropout): Dropout(p=0.1, inplace=False)\n",
       "      )\n",
       "      (dropout): Dropout(p=0.1, inplace=False)\n",
       "    )\n",
       "    (1): TransformerBlock(\n",
       "      (attention): MultiHeadedRelativeAttention(\n",
       "        (linear_layers): ModuleList(\n",
       "          (0): Linear(in_features=360, out_features=360, bias=True)\n",
       "          (1): Linear(in_features=360, out_features=360, bias=True)\n",
       "          (2): Linear(in_features=360, out_features=360, bias=True)\n",
       "        )\n",
       "        (output_linear): Linear(in_features=360, out_features=360, bias=True)\n",
       "        (attention): RelativeAttention()\n",
       "        (dropout): Dropout(p=0.1, inplace=False)\n",
       "        (posEmbedding): RelativePositionalEmbedding(\n",
       "          (r_embedding): Embedding(367, 360, padding_idx=366)\n",
       "        )\n",
       "      )\n",
       "      (feed_forward): PositionwiseFeedForward(\n",
       "        (w_1): Linear(in_features=360, out_features=1440, bias=True)\n",
       "        (w_2): Linear(in_features=1440, out_features=360, bias=True)\n",
       "        (dropout): Dropout(p=0.1, inplace=False)\n",
       "        (activation): GELU()\n",
       "      )\n",
       "      (input_sublayer): SublayerConnection(\n",
       "        (norm): LayerNorm()\n",
       "        (dropout): Dropout(p=0.1, inplace=False)\n",
       "      )\n",
       "      (output_sublayer): SublayerConnection(\n",
       "        (norm): LayerNorm()\n",
       "        (dropout): Dropout(p=0.1, inplace=False)\n",
       "      )\n",
       "      (dropout): Dropout(p=0.1, inplace=False)\n",
       "    )\n",
       "    (2): TransformerBlock(\n",
       "      (attention): MultiHeadedRelativeAttention(\n",
       "        (linear_layers): ModuleList(\n",
       "          (0): Linear(in_features=360, out_features=360, bias=True)\n",
       "          (1): Linear(in_features=360, out_features=360, bias=True)\n",
       "          (2): Linear(in_features=360, out_features=360, bias=True)\n",
       "        )\n",
       "        (output_linear): Linear(in_features=360, out_features=360, bias=True)\n",
       "        (attention): RelativeAttention()\n",
       "        (dropout): Dropout(p=0.1, inplace=False)\n",
       "        (posEmbedding): RelativePositionalEmbedding(\n",
       "          (r_embedding): Embedding(367, 360, padding_idx=366)\n",
       "        )\n",
       "      )\n",
       "      (feed_forward): PositionwiseFeedForward(\n",
       "        (w_1): Linear(in_features=360, out_features=1440, bias=True)\n",
       "        (w_2): Linear(in_features=1440, out_features=360, bias=True)\n",
       "        (dropout): Dropout(p=0.1, inplace=False)\n",
       "        (activation): GELU()\n",
       "      )\n",
       "      (input_sublayer): SublayerConnection(\n",
       "        (norm): LayerNorm()\n",
       "        (dropout): Dropout(p=0.1, inplace=False)\n",
       "      )\n",
       "      (output_sublayer): SublayerConnection(\n",
       "        (norm): LayerNorm()\n",
       "        (dropout): Dropout(p=0.1, inplace=False)\n",
       "      )\n",
       "      (dropout): Dropout(p=0.1, inplace=False)\n",
       "    )\n",
       "  )\n",
       ")"
      ]
     },
     "execution_count": 10,
     "metadata": {},
     "output_type": "execute_result"
    }
   ],
   "source": [
    "bert = import_bert(config_old)\n",
    "bert.eval()\n",
    "for param in bert.parameters():\n",
    "    param.requires_grad = False\n",
    "    \n",
    "device = torch.device(\"cuda\" if torch.cuda.is_available() else \"cpu\")\n",
    "bert.to(device)"
   ]
  },
  {
   "cell_type": "code",
   "execution_count": 11,
   "id": "8f960f2b-6733-4d79-8c07-5016c0755f9c",
   "metadata": {
    "tags": []
   },
   "outputs": [],
   "source": [
    "states = {\n",
    "    '01': {'k': 10, 'states': [456], 'train_val': True},\n",
    "    '09': {'k': 10, 'states': [798], 'train_val': False},\n",
    "    '02': {'k': 5, 'states': [123, 456], 'train_val': True},\n",
    "    '0875': {'k': 8, 'states': [123, 456], 'train_val': False},\n",
    "    '05': {'k': 2, 'states': [123, 456, 789, 101, 121], 'train_val': True},\n",
    "    '0666': {'k': 3, 'states': [123, 456, 789, 101], 'train_val': False},\n",
    "    '08': {'k': 5, 'states': [123, 456], 'train_val': False},\n",
    "}"
   ]
  },
  {
   "cell_type": "code",
   "execution_count": 12,
   "id": "94169b05-b805-443e-bc74-4fc320911d00",
   "metadata": {
    "tags": []
   },
   "outputs": [],
   "source": [
    "loader = torch.utils.data.DataLoader(ds, batch_size=len(ds)) #len(ds)\n",
    "get_weights = lambda x: compute_class_weight('balanced',classes=np.array([0,1]),y=x)\n",
    "\n",
    "for data in loader:\n",
    "    diags_all = torch.cat([data[f'd0_{y}'] for y in range(2015,2018)]).numpy()\n",
    "    weights_classes = np.apply_along_axis(get_weights, 0, diags_all)\n",
    "    \n",
    "weights_classes = np.array([[2.55449591, 0.61147619, 0.63088829, 0.59991361, 0.52707033],\n",
    "                           [0.62168435, 2.74263146, 2.41002571, 3.00216156, 9.73520249]])"
   ]
  },
  {
   "cell_type": "code",
   "execution_count": 15,
   "id": "3815a6ed-287a-4052-9b61-3e0d88a06e77",
   "metadata": {
    "tags": []
   },
   "outputs": [],
   "source": [
    "class EarlyStopping():\n",
    "    def __init__(self, tolerance=5, min_delta=1e-5):\n",
    "\n",
    "        self.tolerance = tolerance\n",
    "        self.min_delta = min_delta\n",
    "        self.counter = 0\n",
    "        self.early_stop = False\n",
    "        self.max_auc = 0\n",
    "\n",
    "    def __call__(self, test_auc):\n",
    "        \n",
    "        if (test_auc-self.max_auc) > self.min_delta: #model is imporving performances\n",
    "            self.counter = 0\n",
    "            self.max_auc = test_auc\n",
    "        else:\n",
    "            self.counter +=1\n",
    "            if self.counter >= self.tolerance:  \n",
    "                self.early_stop = True"
   ]
  },
  {
   "cell_type": "code",
   "execution_count": 20,
   "id": "26e7bd31-4d56-42e4-9fcd-540c1c9fc032",
   "metadata": {
    "tags": []
   },
   "outputs": [
    {
     "name": "stderr",
     "output_type": "stream",
     "text": [
      "EP_train:0:   0%|| 0/352 [00:00<?, ?it/s]"
     ]
    },
    {
     "name": "stdout",
     "output_type": "stream",
     "text": [
      "START ITERATION 1\n"
     ]
    },
    {
     "name": "stderr",
     "output_type": "stream",
     "text": [
      "EP_train:0: 100%|| 352/352 [03:44<00:00,  1.57it/s]\n",
      "EP_test:0:   0%|| 0/10 [00:00<?, ?it/s]"
     ]
    },
    {
     "name": "stdout",
     "output_type": "stream",
     "text": [
      "END TRAIN EPOCH\n",
      "{'epoch': 0, 'iter': 351, 'avg_loss': 0.64}\n"
     ]
    },
    {
     "name": "stderr",
     "output_type": "stream",
     "text": [
      "EP_test:0: 100%|| 10/10 [00:24<00:00,  2.45s/it]\n",
      "EP_train:1:   0%|| 0/352 [00:00<?, ?it/s]"
     ]
    },
    {
     "name": "stdout",
     "output_type": "stream",
     "text": [
      "END TEST EPOCH\n",
      "{'epoch': 0, 'iter': 9, 'avg_loss': 0.5718886897207709, 'avg_roc': 0.7554554158814926}\n",
      "--------------------------------------\n"
     ]
    },
    {
     "name": "stderr",
     "output_type": "stream",
     "text": [
      "EP_train:1: 100%|| 352/352 [03:44<00:00,  1.57it/s]\n",
      "EP_test:1:   0%|| 0/10 [00:00<?, ?it/s]"
     ]
    },
    {
     "name": "stdout",
     "output_type": "stream",
     "text": [
      "END TRAIN EPOCH\n",
      "{'epoch': 1, 'iter': 351, 'avg_loss': 0.556}\n"
     ]
    },
    {
     "name": "stderr",
     "output_type": "stream",
     "text": [
      "EP_test:1: 100%|| 10/10 [00:24<00:00,  2.44s/it]\n",
      "EP_train:2:   0%|| 0/352 [00:00<?, ?it/s]"
     ]
    },
    {
     "name": "stdout",
     "output_type": "stream",
     "text": [
      "END TEST EPOCH\n",
      "{'epoch': 1, 'iter': 9, 'avg_loss': 0.49737808414969364, 'avg_roc': 0.8184192511397276}\n",
      "--------------------------------------\n"
     ]
    },
    {
     "name": "stderr",
     "output_type": "stream",
     "text": [
      "EP_train:2: 100%|| 352/352 [03:39<00:00,  1.61it/s]\n",
      "EP_test:2:   0%|| 0/10 [00:00<?, ?it/s]"
     ]
    },
    {
     "name": "stdout",
     "output_type": "stream",
     "text": [
      "END TRAIN EPOCH\n",
      "{'epoch': 2, 'iter': 351, 'avg_loss': 0.493}\n"
     ]
    },
    {
     "name": "stderr",
     "output_type": "stream",
     "text": [
      "EP_test:2: 100%|| 10/10 [00:23<00:00,  2.39s/it]\n",
      "EP_train:3:   0%|| 0/352 [00:00<?, ?it/s]"
     ]
    },
    {
     "name": "stdout",
     "output_type": "stream",
     "text": [
      "END TEST EPOCH\n",
      "{'epoch': 2, 'iter': 9, 'avg_loss': 0.4671988324760793, 'avg_roc': 0.8408639292596879}\n",
      "--------------------------------------\n"
     ]
    },
    {
     "name": "stderr",
     "output_type": "stream",
     "text": [
      "EP_train:3: 100%|| 352/352 [03:43<00:00,  1.58it/s]\n",
      "EP_test:3:   0%|| 0/10 [00:00<?, ?it/s]"
     ]
    },
    {
     "name": "stdout",
     "output_type": "stream",
     "text": [
      "END TRAIN EPOCH\n",
      "{'epoch': 3, 'iter': 351, 'avg_loss': 0.466}\n"
     ]
    },
    {
     "name": "stderr",
     "output_type": "stream",
     "text": [
      "EP_test:3: 100%|| 10/10 [00:24<00:00,  2.44s/it]\n",
      "EP_train:4:   0%|| 0/352 [00:00<?, ?it/s]"
     ]
    },
    {
     "name": "stdout",
     "output_type": "stream",
     "text": [
      "END TEST EPOCH\n",
      "{'epoch': 3, 'iter': 9, 'avg_loss': 0.44135026662722926, 'avg_roc': 0.8544783748241139}\n",
      "--------------------------------------\n"
     ]
    },
    {
     "name": "stderr",
     "output_type": "stream",
     "text": [
      "EP_train:4: 100%|| 352/352 [03:42<00:00,  1.58it/s]\n",
      "EP_test:4:   0%|| 0/10 [00:00<?, ?it/s]"
     ]
    },
    {
     "name": "stdout",
     "output_type": "stream",
     "text": [
      "END TRAIN EPOCH\n",
      "{'epoch': 4, 'iter': 351, 'avg_loss': 0.443}\n"
     ]
    },
    {
     "name": "stderr",
     "output_type": "stream",
     "text": [
      "EP_test:4: 100%|| 10/10 [00:24<00:00,  2.44s/it]\n",
      "EP_train:5:   0%|| 0/352 [00:00<?, ?it/s]"
     ]
    },
    {
     "name": "stdout",
     "output_type": "stream",
     "text": [
      "END TEST EPOCH\n",
      "{'epoch': 4, 'iter': 9, 'avg_loss': 0.4458227067744168, 'avg_roc': 0.8578662897771705}\n",
      "--------------------------------------\n"
     ]
    },
    {
     "name": "stderr",
     "output_type": "stream",
     "text": [
      "EP_train:5: 100%|| 352/352 [03:43<00:00,  1.58it/s]\n",
      "EP_test:5:   0%|| 0/10 [00:00<?, ?it/s]"
     ]
    },
    {
     "name": "stdout",
     "output_type": "stream",
     "text": [
      "END TRAIN EPOCH\n",
      "{'epoch': 5, 'iter': 351, 'avg_loss': 0.425}\n"
     ]
    },
    {
     "name": "stderr",
     "output_type": "stream",
     "text": [
      "EP_test:5: 100%|| 10/10 [00:24<00:00,  2.43s/it]\n",
      "EP_train:6:   0%|| 0/352 [00:00<?, ?it/s]"
     ]
    },
    {
     "name": "stdout",
     "output_type": "stream",
     "text": [
      "END TEST EPOCH\n",
      "{'epoch': 5, 'iter': 9, 'avg_loss': 0.40779102433722947, 'avg_roc': 0.8709548342701717}\n",
      "--------------------------------------\n"
     ]
    },
    {
     "name": "stderr",
     "output_type": "stream",
     "text": [
      "EP_train:6: 100%|| 352/352 [03:43<00:00,  1.57it/s]\n",
      "EP_test:6:   0%|| 0/10 [00:00<?, ?it/s]"
     ]
    },
    {
     "name": "stdout",
     "output_type": "stream",
     "text": [
      "END TRAIN EPOCH\n",
      "{'epoch': 6, 'iter': 351, 'avg_loss': 0.412}\n"
     ]
    },
    {
     "name": "stderr",
     "output_type": "stream",
     "text": [
      "EP_test:6: 100%|| 10/10 [00:24<00:00,  2.43s/it]\n",
      "EP_train:7:   0%|| 0/352 [00:00<?, ?it/s]"
     ]
    },
    {
     "name": "stdout",
     "output_type": "stream",
     "text": [
      "END TEST EPOCH\n",
      "{'epoch': 6, 'iter': 9, 'avg_loss': 0.397733876164377, 'avg_roc': 0.8760239679167864}\n",
      "--------------------------------------\n"
     ]
    },
    {
     "name": "stderr",
     "output_type": "stream",
     "text": [
      "EP_train:7: 100%|| 352/352 [03:42<00:00,  1.58it/s]\n",
      "EP_test:7:   0%|| 0/10 [00:00<?, ?it/s]"
     ]
    },
    {
     "name": "stdout",
     "output_type": "stream",
     "text": [
      "END TRAIN EPOCH\n",
      "{'epoch': 7, 'iter': 351, 'avg_loss': 0.406}\n"
     ]
    },
    {
     "name": "stderr",
     "output_type": "stream",
     "text": [
      "EP_test:7:  20%|| 2/10 [00:06<00:26,  3.35s/it]\n"
     ]
    },
    {
     "ename": "KeyboardInterrupt",
     "evalue": "",
     "output_type": "error",
     "traceback": [
      "\u001b[0;31m---------------------------------------------------------------------------\u001b[0m",
      "\u001b[0;31mKeyboardInterrupt\u001b[0m                         Traceback (most recent call last)",
      "Cell \u001b[0;32mIn[20], line 41\u001b[0m\n\u001b[1;32m     39\u001b[0m \u001b[38;5;28;01mfor\u001b[39;00m ep \u001b[38;5;129;01min\u001b[39;00m \u001b[38;5;28mrange\u001b[39m(epochs):\n\u001b[1;32m     40\u001b[0m     losses_tmp[\u001b[38;5;124mf\u001b[39m\u001b[38;5;124m'\u001b[39m\u001b[38;5;124mtrain_\u001b[39m\u001b[38;5;132;01m{\u001b[39;00mi\u001b[38;5;132;01m}\u001b[39;00m\u001b[38;5;124m'\u001b[39m] \u001b[38;5;241m=\u001b[39m train_iteration(model, train_loader, ep,\u001b[38;5;241m100\u001b[39m)\n\u001b[0;32m---> 41\u001b[0m     res, labs_i, preds_i, idps_i \u001b[38;5;241m=\u001b[39m \u001b[43mtest_iteration\u001b[49m\u001b[43m(\u001b[49m\u001b[43mmodel\u001b[49m\u001b[43m,\u001b[49m\u001b[43m \u001b[49m\u001b[43mvalidation_loader\u001b[49m\u001b[43m,\u001b[49m\u001b[43m \u001b[49m\u001b[43mep\u001b[49m\u001b[43m,\u001b[49m\u001b[38;5;241;43m100\u001b[39;49m\u001b[43m)\u001b[49m\n\u001b[1;32m     42\u001b[0m     losses_tmp[\u001b[38;5;124mf\u001b[39m\u001b[38;5;124m'\u001b[39m\u001b[38;5;124mtest_\u001b[39m\u001b[38;5;132;01m{\u001b[39;00mep\u001b[38;5;132;01m}\u001b[39;00m\u001b[38;5;124m'\u001b[39m] \u001b[38;5;241m=\u001b[39m res\n\u001b[1;32m     43\u001b[0m     \u001b[38;5;28;01mif\u001b[39;00m res[\u001b[38;5;124m'\u001b[39m\u001b[38;5;124mavg_roc\u001b[39m\u001b[38;5;124m'\u001b[39m] \u001b[38;5;241m>\u001b[39m\u001b[38;5;241m=\u001b[39m max_roc:\n",
      "Cell \u001b[0;32mIn[7], line 50\u001b[0m, in \u001b[0;36mtest_iteration\u001b[0;34m(model, data_loader, epoch, log_freq)\u001b[0m\n\u001b[1;32m     48\u001b[0m i_tmp \u001b[38;5;241m=\u001b[39m \u001b[38;5;241m0\u001b[39m\n\u001b[1;32m     49\u001b[0m idps_all \u001b[38;5;241m=\u001b[39m []\n\u001b[0;32m---> 50\u001b[0m \u001b[38;5;28;01mfor\u001b[39;00m i, data \u001b[38;5;129;01min\u001b[39;00m data_iter:\n\u001b[1;32m     51\u001b[0m     \n\u001b[1;32m     52\u001b[0m     \u001b[38;5;66;03m# 0. batch_data will be sent into the device(GPU or cpu)\u001b[39;00m\n\u001b[1;32m     53\u001b[0m     idps_tmp \u001b[38;5;241m=\u001b[39m data[\u001b[38;5;124m'\u001b[39m\u001b[38;5;124midp\u001b[39m\u001b[38;5;124m'\u001b[39m]\n\u001b[1;32m     54\u001b[0m     data \u001b[38;5;241m=\u001b[39m {key: value\u001b[38;5;241m.\u001b[39mto(device) \u001b[38;5;28;01mfor\u001b[39;00m key, value \u001b[38;5;129;01min\u001b[39;00m data\u001b[38;5;241m.\u001b[39mitems() \u001b[38;5;28;01mif\u001b[39;00m key \u001b[38;5;129;01min\u001b[39;00m vars_to_use}\n",
      "File \u001b[0;32m~/.local/lib/python3.8/site-packages/tqdm/std.py:1165\u001b[0m, in \u001b[0;36mtqdm.__iter__\u001b[0;34m(self)\u001b[0m\n\u001b[1;32m   1159\u001b[0m     \u001b[38;5;28;01mraise\u001b[39;00m TqdmDeprecationWarning(\n\u001b[1;32m   1160\u001b[0m         \u001b[38;5;124m\"\u001b[39m\u001b[38;5;124mPlease use `tqdm.gui.tqdm(...)` instead of\u001b[39m\u001b[38;5;124m\"\u001b[39m\n\u001b[1;32m   1161\u001b[0m         \u001b[38;5;124m\"\u001b[39m\u001b[38;5;124m `tqdm(..., gui=True)`\u001b[39m\u001b[38;5;130;01m\\n\u001b[39;00m\u001b[38;5;124m\"\u001b[39m,\n\u001b[1;32m   1162\u001b[0m         fp_write\u001b[38;5;241m=\u001b[39m\u001b[38;5;28mgetattr\u001b[39m(\u001b[38;5;28mself\u001b[39m\u001b[38;5;241m.\u001b[39mfp, \u001b[38;5;124m'\u001b[39m\u001b[38;5;124mwrite\u001b[39m\u001b[38;5;124m'\u001b[39m, sys\u001b[38;5;241m.\u001b[39mstderr\u001b[38;5;241m.\u001b[39mwrite))\n\u001b[1;32m   1164\u001b[0m \u001b[38;5;28;01mtry\u001b[39;00m:\n\u001b[0;32m-> 1165\u001b[0m     \u001b[38;5;28;01mfor\u001b[39;00m obj \u001b[38;5;129;01min\u001b[39;00m iterable:\n\u001b[1;32m   1166\u001b[0m         \u001b[38;5;28;01myield\u001b[39;00m obj\n\u001b[1;32m   1167\u001b[0m         \u001b[38;5;66;03m# Update and possibly print the progressbar.\u001b[39;00m\n\u001b[1;32m   1168\u001b[0m         \u001b[38;5;66;03m# Note: does not call self.update(1) for speed optimisation.\u001b[39;00m\n",
      "File \u001b[0;32m~/.local/lib/python3.8/site-packages/torch/utils/data/dataloader.py:681\u001b[0m, in \u001b[0;36m_BaseDataLoaderIter.__next__\u001b[0;34m(self)\u001b[0m\n\u001b[1;32m    678\u001b[0m \u001b[38;5;28;01mif\u001b[39;00m \u001b[38;5;28mself\u001b[39m\u001b[38;5;241m.\u001b[39m_sampler_iter \u001b[38;5;129;01mis\u001b[39;00m \u001b[38;5;28;01mNone\u001b[39;00m:\n\u001b[1;32m    679\u001b[0m     \u001b[38;5;66;03m# TODO(https://github.com/pytorch/pytorch/issues/76750)\u001b[39;00m\n\u001b[1;32m    680\u001b[0m     \u001b[38;5;28mself\u001b[39m\u001b[38;5;241m.\u001b[39m_reset()  \u001b[38;5;66;03m# type: ignore[call-arg]\u001b[39;00m\n\u001b[0;32m--> 681\u001b[0m data \u001b[38;5;241m=\u001b[39m \u001b[38;5;28;43mself\u001b[39;49m\u001b[38;5;241;43m.\u001b[39;49m\u001b[43m_next_data\u001b[49m\u001b[43m(\u001b[49m\u001b[43m)\u001b[49m\n\u001b[1;32m    682\u001b[0m \u001b[38;5;28mself\u001b[39m\u001b[38;5;241m.\u001b[39m_num_yielded \u001b[38;5;241m+\u001b[39m\u001b[38;5;241m=\u001b[39m \u001b[38;5;241m1\u001b[39m\n\u001b[1;32m    683\u001b[0m \u001b[38;5;28;01mif\u001b[39;00m \u001b[38;5;28mself\u001b[39m\u001b[38;5;241m.\u001b[39m_dataset_kind \u001b[38;5;241m==\u001b[39m _DatasetKind\u001b[38;5;241m.\u001b[39mIterable \u001b[38;5;129;01mand\u001b[39;00m \\\n\u001b[1;32m    684\u001b[0m         \u001b[38;5;28mself\u001b[39m\u001b[38;5;241m.\u001b[39m_IterableDataset_len_called \u001b[38;5;129;01mis\u001b[39;00m \u001b[38;5;129;01mnot\u001b[39;00m \u001b[38;5;28;01mNone\u001b[39;00m \u001b[38;5;129;01mand\u001b[39;00m \\\n\u001b[1;32m    685\u001b[0m         \u001b[38;5;28mself\u001b[39m\u001b[38;5;241m.\u001b[39m_num_yielded \u001b[38;5;241m>\u001b[39m \u001b[38;5;28mself\u001b[39m\u001b[38;5;241m.\u001b[39m_IterableDataset_len_called:\n",
      "File \u001b[0;32m~/.local/lib/python3.8/site-packages/torch/utils/data/dataloader.py:721\u001b[0m, in \u001b[0;36m_SingleProcessDataLoaderIter._next_data\u001b[0;34m(self)\u001b[0m\n\u001b[1;32m    719\u001b[0m \u001b[38;5;28;01mdef\u001b[39;00m \u001b[38;5;21m_next_data\u001b[39m(\u001b[38;5;28mself\u001b[39m):\n\u001b[1;32m    720\u001b[0m     index \u001b[38;5;241m=\u001b[39m \u001b[38;5;28mself\u001b[39m\u001b[38;5;241m.\u001b[39m_next_index()  \u001b[38;5;66;03m# may raise StopIteration\u001b[39;00m\n\u001b[0;32m--> 721\u001b[0m     data \u001b[38;5;241m=\u001b[39m \u001b[38;5;28;43mself\u001b[39;49m\u001b[38;5;241;43m.\u001b[39;49m\u001b[43m_dataset_fetcher\u001b[49m\u001b[38;5;241;43m.\u001b[39;49m\u001b[43mfetch\u001b[49m\u001b[43m(\u001b[49m\u001b[43mindex\u001b[49m\u001b[43m)\u001b[49m  \u001b[38;5;66;03m# may raise StopIteration\u001b[39;00m\n\u001b[1;32m    722\u001b[0m     \u001b[38;5;28;01mif\u001b[39;00m \u001b[38;5;28mself\u001b[39m\u001b[38;5;241m.\u001b[39m_pin_memory:\n\u001b[1;32m    723\u001b[0m         data \u001b[38;5;241m=\u001b[39m _utils\u001b[38;5;241m.\u001b[39mpin_memory\u001b[38;5;241m.\u001b[39mpin_memory(data, \u001b[38;5;28mself\u001b[39m\u001b[38;5;241m.\u001b[39m_pin_memory_device)\n",
      "File \u001b[0;32m~/.local/lib/python3.8/site-packages/torch/utils/data/_utils/fetch.py:49\u001b[0m, in \u001b[0;36m_MapDatasetFetcher.fetch\u001b[0;34m(self, possibly_batched_index)\u001b[0m\n\u001b[1;32m     47\u001b[0m \u001b[38;5;28;01mdef\u001b[39;00m \u001b[38;5;21mfetch\u001b[39m(\u001b[38;5;28mself\u001b[39m, possibly_batched_index):\n\u001b[1;32m     48\u001b[0m     \u001b[38;5;28;01mif\u001b[39;00m \u001b[38;5;28mself\u001b[39m\u001b[38;5;241m.\u001b[39mauto_collation:\n\u001b[0;32m---> 49\u001b[0m         data \u001b[38;5;241m=\u001b[39m [\u001b[38;5;28mself\u001b[39m\u001b[38;5;241m.\u001b[39mdataset[idx] \u001b[38;5;28;01mfor\u001b[39;00m idx \u001b[38;5;129;01min\u001b[39;00m possibly_batched_index]\n\u001b[1;32m     50\u001b[0m     \u001b[38;5;28;01melse\u001b[39;00m:\n\u001b[1;32m     51\u001b[0m         data \u001b[38;5;241m=\u001b[39m \u001b[38;5;28mself\u001b[39m\u001b[38;5;241m.\u001b[39mdataset[possibly_batched_index]\n",
      "File \u001b[0;32m~/.local/lib/python3.8/site-packages/torch/utils/data/_utils/fetch.py:49\u001b[0m, in \u001b[0;36m<listcomp>\u001b[0;34m(.0)\u001b[0m\n\u001b[1;32m     47\u001b[0m \u001b[38;5;28;01mdef\u001b[39;00m \u001b[38;5;21mfetch\u001b[39m(\u001b[38;5;28mself\u001b[39m, possibly_batched_index):\n\u001b[1;32m     48\u001b[0m     \u001b[38;5;28;01mif\u001b[39;00m \u001b[38;5;28mself\u001b[39m\u001b[38;5;241m.\u001b[39mauto_collation:\n\u001b[0;32m---> 49\u001b[0m         data \u001b[38;5;241m=\u001b[39m [\u001b[38;5;28;43mself\u001b[39;49m\u001b[38;5;241;43m.\u001b[39;49m\u001b[43mdataset\u001b[49m\u001b[43m[\u001b[49m\u001b[43midx\u001b[49m\u001b[43m]\u001b[49m \u001b[38;5;28;01mfor\u001b[39;00m idx \u001b[38;5;129;01min\u001b[39;00m possibly_batched_index]\n\u001b[1;32m     50\u001b[0m     \u001b[38;5;28;01melse\u001b[39;00m:\n\u001b[1;32m     51\u001b[0m         data \u001b[38;5;241m=\u001b[39m \u001b[38;5;28mself\u001b[39m\u001b[38;5;241m.\u001b[39mdataset[possibly_batched_index]\n",
      "File \u001b[0;32m~/transformer_final/Model/Datasets/ds_FT.py:51\u001b[0m, in \u001b[0;36mDataset_FT.__getitem__\u001b[0;34m(self, idx)\u001b[0m\n\u001b[1;32m     49\u001b[0m idp \u001b[38;5;241m=\u001b[39m \u001b[38;5;28mself\u001b[39m\u001b[38;5;241m.\u001b[39mP0_gen\u001b[38;5;241m.\u001b[39miloc[idx][\u001b[38;5;124m'\u001b[39m\u001b[38;5;124midp\u001b[39m\u001b[38;5;124m'\u001b[39m]\n\u001b[1;32m     50\u001b[0m evs_list \u001b[38;5;241m=\u001b[39m {idp: \u001b[38;5;28mself\u001b[39m\u001b[38;5;241m.\u001b[39mevents_list[y][idp]\u001b[38;5;241m.\u001b[39mcopy()}\n\u001b[0;32m---> 51\u001b[0m p0, d0, m0, d_all, m_all, v_all, t_all, types_all \u001b[38;5;241m=\u001b[39m \u001b[43mget_inputs\u001b[49m\u001b[43m(\u001b[49m\u001b[43m[\u001b[49m\u001b[43midp\u001b[49m\u001b[43m]\u001b[49m\u001b[43m,\u001b[49m\u001b[43m \u001b[49m\u001b[43my\u001b[49m\u001b[43m,\u001b[49m\u001b[43m \u001b[49m\u001b[38;5;28;43mself\u001b[39;49m\u001b[38;5;241;43m.\u001b[39;49m\u001b[43mP0_gen\u001b[49m\u001b[43m,\u001b[49m\u001b[43m \u001b[49m\u001b[38;5;28;43mself\u001b[39;49m\u001b[38;5;241;43m.\u001b[39;49m\u001b[43mdiags\u001b[49m\u001b[43m,\u001b[49m\u001b[43m \u001b[49m\u001b[38;5;28;43mself\u001b[39;49m\u001b[38;5;241;43m.\u001b[39;49m\u001b[43mdrugs\u001b[49m\u001b[43m,\u001b[49m\u001b[43m \u001b[49m\u001b[43mevs_list\u001b[49m\u001b[43m,\u001b[49m\n\u001b[1;32m     52\u001b[0m \u001b[43m                                                               \u001b[49m\u001b[38;5;28;43mself\u001b[39;49m\u001b[38;5;241;43m.\u001b[39;49m\u001b[43mnmax\u001b[49m\u001b[43m,\u001b[49m\u001b[43m \u001b[49m\u001b[38;5;28;43mself\u001b[39;49m\u001b[38;5;241;43m.\u001b[39;49m\u001b[43mpadd_time\u001b[49m\u001b[43m,\u001b[49m\u001b[43m \u001b[49m\u001b[38;5;28;43mself\u001b[39;49m\u001b[38;5;241;43m.\u001b[39;49m\u001b[43mpadd_type\u001b[49m\u001b[43m,\u001b[49m\u001b[43m \u001b[49m\u001b[38;5;28;43;01mFalse\u001b[39;49;00m\u001b[43m)\u001b[49m\n\u001b[1;32m     55\u001b[0m years \u001b[38;5;241m=\u001b[39m [y_tmp \u001b[38;5;28;01mfor\u001b[39;00m y_tmp \u001b[38;5;129;01min\u001b[39;00m \u001b[38;5;28mself\u001b[39m\u001b[38;5;241m.\u001b[39mevents_list\u001b[38;5;241m.\u001b[39mkeys() \u001b[38;5;28;01mif\u001b[39;00m y_tmp\u001b[38;5;241m!=\u001b[39my]\n\u001b[1;32m     56\u001b[0m labs_out \u001b[38;5;241m=\u001b[39m \u001b[38;5;28mself\u001b[39m\u001b[38;5;241m.\u001b[39mget_d_m_outputs(idp, [y\u001b[38;5;241m+\u001b[39m\u001b[38;5;241m1\u001b[39m \u001b[38;5;28;01mfor\u001b[39;00m y \u001b[38;5;129;01min\u001b[39;00m years])\n",
      "File \u001b[0;32m~/transformer_final/Model/Datasets/utils.py:120\u001b[0m, in \u001b[0;36mget_inputs\u001b[0;34m(idps, y, P0, diags, drugs, evs_list, n_max, padd_time, padd_type, tensors)\u001b[0m\n\u001b[1;32m     95\u001b[0m \u001b[38;5;250m\u001b[39m\u001b[38;5;124;03m\"\"\"\u001b[39;00m\n\u001b[1;32m     96\u001b[0m \u001b[38;5;124;03m    Get tensors to be feed in a InputEmbedding layer. \u001b[39;00m\n\u001b[1;32m     97\u001b[0m \u001b[38;5;124;03m    INPUTS: \u001b[39;00m\n\u001b[0;32m   (...)\u001b[0m\n\u001b[1;32m    116\u001b[0m \u001b[38;5;124;03m        - type_all: type of each event, tensor with shape (n_idp, n_max+3)\u001b[39;00m\n\u001b[1;32m    117\u001b[0m \u001b[38;5;124;03m \"\"\"\u001b[39;00m\n\u001b[1;32m    119\u001b[0m \u001b[38;5;66;03m# 1) get P0 matrix\u001b[39;00m\n\u001b[0;32m--> 120\u001b[0m p0 \u001b[38;5;241m=\u001b[39m \u001b[43mget_pO_matrix\u001b[49m\u001b[43m(\u001b[49m\u001b[43midps\u001b[49m\u001b[43m,\u001b[49m\u001b[43m \u001b[49m\u001b[43my\u001b[49m\u001b[43m,\u001b[49m\u001b[43m \u001b[49m\u001b[43mP0\u001b[49m\u001b[43m)\u001b[49m\n\u001b[1;32m    121\u001b[0m p0 \u001b[38;5;241m=\u001b[39m np\u001b[38;5;241m.\u001b[39msqueeze(p0\u001b[38;5;241m.\u001b[39mvalues)\n\u001b[1;32m    123\u001b[0m \u001b[38;5;66;03m# 2) get d0 and m0 matrices\u001b[39;00m\n",
      "File \u001b[0;32m~/transformer_final/Model/Datasets/utils.py:79\u001b[0m, in \u001b[0;36mget_pO_matrix\u001b[0;34m(idps_y, y, P0, time_unit, norm)\u001b[0m\n\u001b[1;32m     66\u001b[0m \u001b[38;5;28;01mdef\u001b[39;00m \u001b[38;5;21mget_pO_matrix\u001b[39m(idps_y, y, P0, time_unit\u001b[38;5;241m=\u001b[39m\u001b[38;5;124m'\u001b[39m\u001b[38;5;124mY\u001b[39m\u001b[38;5;124m'\u001b[39m, norm\u001b[38;5;241m=\u001b[39m\u001b[38;5;28;01mTrue\u001b[39;00m):\n\u001b[1;32m     67\u001b[0m \u001b[38;5;250m    \u001b[39m\u001b[38;5;124;03m\"\"\"\u001b[39;00m\n\u001b[1;32m     68\u001b[0m \u001b[38;5;124;03m        Get p0 matrix for a list of patients.\u001b[39;00m\n\u001b[1;32m     69\u001b[0m \u001b[38;5;124;03m        INPUTS: \u001b[39;00m\n\u001b[0;32m   (...)\u001b[0m\n\u001b[1;32m     76\u001b[0m \u001b[38;5;124;03m        \u001b[39;00m\n\u001b[1;32m     77\u001b[0m \u001b[38;5;124;03m    \"\"\"\u001b[39;00m\n\u001b[0;32m---> 79\u001b[0m     p0 \u001b[38;5;241m=\u001b[39m P0\u001b[38;5;241m.\u001b[39mloc[\u001b[43mP0\u001b[49m\u001b[38;5;241;43m.\u001b[39;49m\u001b[43midp\u001b[49m\u001b[38;5;241;43m.\u001b[39;49m\u001b[43misin\u001b[49m\u001b[43m(\u001b[49m\u001b[43midps_y\u001b[49m\u001b[43m)\u001b[49m,:]\u001b[38;5;241m.\u001b[39mcopy()\n\u001b[1;32m     80\u001b[0m     p0[\u001b[38;5;124m'\u001b[39m\u001b[38;5;124msex\u001b[39m\u001b[38;5;124m'\u001b[39m] \u001b[38;5;241m=\u001b[39m (p0\u001b[38;5;241m.\u001b[39msexe\u001b[38;5;241m==\u001b[39m\u001b[38;5;124m'\u001b[39m\u001b[38;5;124mD\u001b[39m\u001b[38;5;124m'\u001b[39m)\u001b[38;5;241m.\u001b[39mastype(\u001b[38;5;28mint\u001b[39m)\n\u001b[1;32m     81\u001b[0m     \u001b[38;5;28;01mif\u001b[39;00m norm:\n",
      "File \u001b[0;32m~/.local/lib/python3.8/site-packages/pandas/core/series.py:4686\u001b[0m, in \u001b[0;36mSeries.isin\u001b[0;34m(self, values)\u001b[0m\n\u001b[1;32m   4633\u001b[0m \u001b[38;5;250m\u001b[39m\u001b[38;5;124;03m\"\"\"\u001b[39;00m\n\u001b[1;32m   4634\u001b[0m \u001b[38;5;124;03mWhether elements in Series are contained in `values`.\u001b[39;00m\n\u001b[1;32m   4635\u001b[0m \n\u001b[0;32m   (...)\u001b[0m\n\u001b[1;32m   4683\u001b[0m \u001b[38;5;124;03mName: animal, dtype: bool\u001b[39;00m\n\u001b[1;32m   4684\u001b[0m \u001b[38;5;124;03m\"\"\"\u001b[39;00m\n\u001b[1;32m   4685\u001b[0m result \u001b[38;5;241m=\u001b[39m algorithms\u001b[38;5;241m.\u001b[39misin(\u001b[38;5;28mself\u001b[39m, values)\n\u001b[0;32m-> 4686\u001b[0m \u001b[38;5;28;01mreturn\u001b[39;00m \u001b[38;5;28;43mself\u001b[39;49m\u001b[38;5;241;43m.\u001b[39;49m\u001b[43m_constructor\u001b[49m\u001b[43m(\u001b[49m\u001b[43mresult\u001b[49m\u001b[43m,\u001b[49m\u001b[43m \u001b[49m\u001b[43mindex\u001b[49m\u001b[38;5;241;43m=\u001b[39;49m\u001b[38;5;28;43mself\u001b[39;49m\u001b[38;5;241;43m.\u001b[39;49m\u001b[43mindex\u001b[49m\u001b[43m)\u001b[49m\u001b[38;5;241m.\u001b[39m__finalize__(\n\u001b[1;32m   4687\u001b[0m     \u001b[38;5;28mself\u001b[39m, method\u001b[38;5;241m=\u001b[39m\u001b[38;5;124m\"\u001b[39m\u001b[38;5;124misin\u001b[39m\u001b[38;5;124m\"\u001b[39m\n\u001b[1;32m   4688\u001b[0m )\n",
      "File \u001b[0;32m~/.local/lib/python3.8/site-packages/pandas/core/series.py:332\u001b[0m, in \u001b[0;36mSeries.__init__\u001b[0;34m(self, data, index, dtype, name, copy, fastpath)\u001b[0m\n\u001b[1;32m    329\u001b[0m         data \u001b[38;5;241m=\u001b[39m SingleBlockManager\u001b[38;5;241m.\u001b[39mfrom_array(data, index)\n\u001b[1;32m    331\u001b[0m generic\u001b[38;5;241m.\u001b[39mNDFrame\u001b[38;5;241m.\u001b[39m\u001b[38;5;21m__init__\u001b[39m(\u001b[38;5;28mself\u001b[39m, data)\n\u001b[0;32m--> 332\u001b[0m \u001b[38;5;28mself\u001b[39m\u001b[38;5;241m.\u001b[39mname \u001b[38;5;241m=\u001b[39m name\n\u001b[1;32m    333\u001b[0m \u001b[38;5;28mself\u001b[39m\u001b[38;5;241m.\u001b[39m_set_axis(\u001b[38;5;241m0\u001b[39m, index, fastpath\u001b[38;5;241m=\u001b[39m\u001b[38;5;28;01mTrue\u001b[39;00m)\n",
      "File \u001b[0;32m~/.local/lib/python3.8/site-packages/pandas/core/generic.py:5161\u001b[0m, in \u001b[0;36mNDFrame.__setattr__\u001b[0;34m(self, name, value)\u001b[0m\n\u001b[1;32m   5159\u001b[0m     \u001b[38;5;28mobject\u001b[39m\u001b[38;5;241m.\u001b[39m\u001b[38;5;21m__setattr__\u001b[39m(\u001b[38;5;28mself\u001b[39m, name, value)\n\u001b[1;32m   5160\u001b[0m \u001b[38;5;28;01melif\u001b[39;00m name \u001b[38;5;129;01min\u001b[39;00m \u001b[38;5;28mself\u001b[39m\u001b[38;5;241m.\u001b[39m_metadata:\n\u001b[0;32m-> 5161\u001b[0m     \u001b[38;5;28;43mobject\u001b[39;49m\u001b[38;5;241;43m.\u001b[39;49m\u001b[38;5;21;43m__setattr__\u001b[39;49m\u001b[43m(\u001b[49m\u001b[38;5;28;43mself\u001b[39;49m\u001b[43m,\u001b[49m\u001b[43m \u001b[49m\u001b[43mname\u001b[49m\u001b[43m,\u001b[49m\u001b[43m \u001b[49m\u001b[43mvalue\u001b[49m\u001b[43m)\u001b[49m\n\u001b[1;32m   5162\u001b[0m \u001b[38;5;28;01melse\u001b[39;00m:\n\u001b[1;32m   5163\u001b[0m     \u001b[38;5;28;01mtry\u001b[39;00m:\n",
      "File \u001b[0;32m~/.local/lib/python3.8/site-packages/pandas/core/series.py:496\u001b[0m, in \u001b[0;36mSeries.name\u001b[0;34m(self, value)\u001b[0m\n\u001b[1;32m    494\u001b[0m \u001b[38;5;28;01mif\u001b[39;00m \u001b[38;5;129;01mnot\u001b[39;00m is_hashable(value):\n\u001b[1;32m    495\u001b[0m     \u001b[38;5;28;01mraise\u001b[39;00m \u001b[38;5;167;01mTypeError\u001b[39;00m(\u001b[38;5;124m\"\u001b[39m\u001b[38;5;124mSeries.name must be a hashable type\u001b[39m\u001b[38;5;124m\"\u001b[39m)\n\u001b[0;32m--> 496\u001b[0m \u001b[38;5;28;43mobject\u001b[39;49m\u001b[38;5;241;43m.\u001b[39;49m\u001b[38;5;21;43m__setattr__\u001b[39;49m\u001b[43m(\u001b[49m\u001b[38;5;28;43mself\u001b[39;49m\u001b[43m,\u001b[49m\u001b[43m \u001b[49m\u001b[38;5;124;43m\"\u001b[39;49m\u001b[38;5;124;43m_name\u001b[39;49m\u001b[38;5;124;43m\"\u001b[39;49m\u001b[43m,\u001b[49m\u001b[43m \u001b[49m\u001b[43mvalue\u001b[49m\u001b[43m)\u001b[49m\n",
      "\u001b[0;31mKeyboardInterrupt\u001b[0m: "
     ]
    }
   ],
   "source": [
    "epochs = 20\n",
    "loss = WeigthedBCELoss(weights=weights_classes, device=device)\n",
    "\n",
    "for st_it, opt in states.items():\n",
    "    #res_path = f'/home/enrico/transformer/results/FT_diags_prediction/weigthed_BCE/BERT_rnn_2_100_50_34_CROSS_{st_it}_with_labs.pkl'\n",
    "    if False: #os.path.isfile(res_path):\n",
    "        with open(res_path, 'rb') as f:\n",
    "            losses = pickle.load(f)\n",
    "        k_start = len(losses)\n",
    "    else:\n",
    "        losses = {}\n",
    "        k_start = 0\n",
    "    k = 0\n",
    "    for state in opt['states']:\n",
    "        kf = KFold(n_splits=opt['k'], shuffle=True, random_state=state)\n",
    "        for i, (train_indices, val_indices) in enumerate(kf.split(ds)):\n",
    "        \n",
    "            print(f'START ITERATION {k+1}')\n",
    "            if k >= k_start and k <=10:\n",
    "                # get data loaders\n",
    "                if opt['train_val']:\n",
    "                    train_sampler = SubsetRandomSampler(train_indices)\n",
    "                    valid_sampler = SubsetRandomSampler(val_indices)\n",
    "                else:\n",
    "                    train_sampler = SubsetRandomSampler(val_indices)\n",
    "                    valid_sampler = SubsetRandomSampler(train_indices)\n",
    "                train_loader = torch.utils.data.DataLoader(ds, batch_size=64, sampler=train_sampler)\n",
    "                validation_loader = torch.utils.data.DataLoader(ds, batch_size=256, sampler=valid_sampler)\n",
    "            \n",
    "                # get model\n",
    "                model = rnn_diags(bert.hidden, 2, [100,50,34])\n",
    "                model.to(device)\n",
    "                optim = torch.optim.Adam(model.parameters())\n",
    "            \n",
    "                # train and test\n",
    "                losses_tmp = {}\n",
    "                max_roc = 0\n",
    "                es = EarlyStopping()\n",
    "                for ep in range(epochs):\n",
    "                    losses_tmp[f'train_{i}'] = train_iteration(model, train_loader, ep,100)\n",
    "                    res, labs_i, preds_i, idps_i = test_iteration(model, validation_loader, ep,100)\n",
    "                    losses_tmp[f'test_{ep}'] = res\n",
    "                    if res['avg_roc'] >= max_roc:\n",
    "                        max_roc = res['avg_roc']\n",
    "                        losses_tmp['labs'] = labs_i.numpy()\n",
    "                        losses_tmp['pred'] = preds_i.numpy()\n",
    "                        losses_tmp['idps'] = idps_i\n",
    "                        \n",
    "                    # early stopping\n",
    "                    es(res['avg_roc'])\n",
    "                    if es.early_stop:\n",
    "                        print(\"Early stop at epoch:\", ep)\n",
    "                        break\n",
    "                \n",
    "                del model    \n",
    "                losses[f'K_{k}'] = losses_tmp\n",
    "                break\n",
    "            break\n",
    "            #k +=1\n",
    "            #print('------------------------------------------------------------------')\n",
    "            #print()\n",
    "            #with open(res_path, 'wb') as outp:\n",
    "            #    pickle.dump(losses, outp)"
   ]
  },
  {
   "cell_type": "code",
   "execution_count": 22,
   "id": "3580bf5a-de57-4a86-a988-f4abfea98234",
   "metadata": {
    "tags": []
   },
   "outputs": [
    {
     "data": {
      "text/plain": [
       "device(type='cpu')"
      ]
     },
     "execution_count": 22,
     "metadata": {},
     "output_type": "execute_result"
    }
   ],
   "source": [
    "ds[0]['m_all'].device"
   ]
  },
  {
   "cell_type": "code",
   "execution_count": null,
   "id": "ce8f65d7-072b-42a3-9001-e9712be06dff",
   "metadata": {},
   "outputs": [],
   "source": []
  },
  {
   "cell_type": "code",
   "execution_count": null,
   "id": "9013150b-0c47-4c52-bc5d-ccfba415621b",
   "metadata": {},
   "outputs": [],
   "source": []
  },
  {
   "cell_type": "code",
   "execution_count": null,
   "id": "e1937b06-2d88-407e-b955-c2de28d1f042",
   "metadata": {},
   "outputs": [],
   "source": []
  },
  {
   "cell_type": "code",
   "execution_count": null,
   "id": "7aaeab12-5b51-4524-a295-aae42cb2745c",
   "metadata": {},
   "outputs": [],
   "source": []
  },
  {
   "cell_type": "code",
   "execution_count": null,
   "id": "5145554e-f322-4455-aecc-f9bd4a96077d",
   "metadata": {},
   "outputs": [],
   "source": []
  },
  {
   "cell_type": "code",
   "execution_count": null,
   "id": "87ebe626-fad1-4e0c-9c39-6b8fba8897b3",
   "metadata": {},
   "outputs": [],
   "source": []
  },
  {
   "cell_type": "code",
   "execution_count": null,
   "id": "341126ce-0173-442a-a0b1-265feb6f6ec4",
   "metadata": {},
   "outputs": [],
   "source": []
  },
  {
   "cell_type": "code",
   "execution_count": null,
   "id": "e13bad0b-52d6-48d8-a8ef-0f2e4d78f1d4",
   "metadata": {},
   "outputs": [],
   "source": []
  },
  {
   "cell_type": "code",
   "execution_count": 3,
   "id": "3353b487-5c09-4581-87bc-ab4a4d55a2fc",
   "metadata": {
    "tags": []
   },
   "outputs": [],
   "source": [
    "vars_to_use = ['p0', 'd0', 'm0', 'd_all','m_all', 'v_all', 't_all', 'types_all', 'dists', 'd0_2015', 'd0_2016', 'd0_2017', 'd0_2018']\n",
    "    \n",
    "\n",
    "def train_iteration(model, data_loader, epoch, log_freq=20):\n",
    "    \n",
    "    data_iter = tqdm.tqdm(enumerate(data_loader),\n",
    "                              desc=\"EP_%s:%d\" % ('train', epoch),\n",
    "                              total=len(data_loader),\n",
    "                              bar_format=\"{l_bar}{r_bar}\")\n",
    "    warnings.filterwarnings('ignore', \"Max number of events reached, some events were removed!\")\n",
    "    avg_loss = 0\n",
    "    for i, data in data_iter:\n",
    "        # 0. batch_data will be sent into the device(GPU or cpu)\n",
    "        \n",
    "        data = {key: value.to(device) for key, value in data.items() if key in vars_to_use}\n",
    "        # 1. forward\n",
    "        outs = bert.forward(data)\n",
    "        outs = model.forward(outs)\n",
    "        # 2. get loss\n",
    "        labs = torch.cat((data['d0_2015'], data['d0_2016'], data['d0_2017'], data['d0_2018']), dim=1).float()\n",
    "        batch_loss = loss(outs, labs)\n",
    "        # 3. backpropagation\n",
    "        optim.zero_grad()\n",
    "        batch_loss.backward()\n",
    "        optim.step()\n",
    "        # 4. print losses \n",
    "        avg_loss += batch_loss.item()\n",
    "        post_fix = {\n",
    "                \"epoch\": epoch,\n",
    "                \"iter\": i,\n",
    "                \"avg_loss\": round(avg_loss / (i+1), 3)}\n",
    "        #if i % log_freq == 0:\n",
    "        #    print(i)\n",
    "        #    data_iter.write(str(post_fix))\n",
    "    print('END TRAIN EPOCH')\n",
    "    print(str(post_fix))\n",
    "    return post_fix\n",
    "\n",
    "def test_iteration(model, data_loader, epoch, log_freq=20):\n",
    "    \n",
    "    data_iter = tqdm.tqdm(enumerate(data_loader),\n",
    "                              desc=\"EP_%s:%d\" % ('test', epoch),\n",
    "                              total=len(data_loader),\n",
    "                              bar_format=\"{l_bar}{r_bar}\")\n",
    "    warnings.filterwarnings('ignore', \"Max number of events reached, some events were removed!\")\n",
    "    avg_loss, avg_roc = 0, 0\n",
    "    model.eval()\n",
    "    bert.eval()\n",
    "    i_tmp = 0\n",
    "    idps_all = []\n",
    "    for i, data in data_iter:\n",
    "        \n",
    "        # 0. batch_data will be sent into the device(GPU or cpu)\n",
    "        idps_tmp = data['idp']\n",
    "        data = {key: value.to(device) for key, value in data.items() if key in vars_to_use}\n",
    "        # 1. forward\n",
    "        with torch.no_grad():\n",
    "            outs = bert.forward(data)\n",
    "            outs = model.forward(outs)\n",
    "            # 2. get loss\n",
    "            labs = torch.cat((data['d0_2015'], data['d0_2016'], data['d0_2017'], data['d0_2018']), dim=1).float()\n",
    "            batch_loss = loss(outs, labs)\n",
    "        # 3. print losses \n",
    "        avg_loss += batch_loss.item()\n",
    "        idps_all += idps_tmp\n",
    "        try:\n",
    "            outs_all = torch.cat((outs_all, outs.cpu()))\n",
    "            labs_all = torch.cat((labs_all, labs.cpu()))\n",
    "        except Exception as e:\n",
    "            outs_all = outs.cpu()\n",
    "            labs_all = labs.cpu()\n",
    "        \n",
    "        post_fix = {\n",
    "                \"epoch\": epoch,\n",
    "                \"iter\": i,\n",
    "                \"avg_loss\": avg_loss / (i+1)}\n",
    "        #if i % log_freq == 0:\n",
    "        #    print(i)\n",
    "        #    data_iter.write(str(post_fix))\n",
    "    print('END TEST EPOCH')\n",
    "    try:\n",
    "        avg_roc = roc_auc_score(labs_all, outs_all)\n",
    "    except Exception as e: \n",
    "        avg_roc = np.nan\n",
    "        print(f'NAN for batch {i}, epoch {epoch}')\n",
    "    post_fix['avg_roc'] = avg_roc\n",
    "    print(str(post_fix))\n",
    "    for ind in range(labs_all.shape[1]):\n",
    "        try:\n",
    "            post_fix[f'avg_roc_{2014+ind}'] = roc_auc_score(labs_all[:,ind], outs_all[:,ind])\n",
    "        except Exception as e: \n",
    "            post_fix[f'avg_roc_{2014+ind}'] = np.nan\n",
    "    print('--------------------------------------')\n",
    "    model.train()\n",
    "    bert.train()\n",
    "    return post_fix, labs_all, outs_all, idps_all"
   ]
  },
  {
   "cell_type": "code",
   "execution_count": 4,
   "id": "d719df9e-ca7f-4e7f-811d-ffd7abc5952c",
   "metadata": {
    "tags": []
   },
   "outputs": [],
   "source": [
    "config = OmegaConf.load('/home/enrico/transformer_final/Configs/configs_std.yaml')\n",
    "paths = OmegaConf.load('/home/enrico/transformer_final/Configs/data_paths.yaml')\n",
    "n_epochs = 10\n",
    "batch = 64\n",
    "with open(paths.idps_tests, 'rb') as f:\n",
    "    idps_test = pickle.load(f)\n",
    "\n",
    "ds = Dataset_FT(paths, config, idps_test)\n"
   ]
  },
  {
   "cell_type": "code",
   "execution_count": 5,
   "id": "0fcddc21-48a1-47c0-a265-54cc43daec5d",
   "metadata": {
    "tags": []
   },
   "outputs": [
    {
     "data": {
      "text/plain": [
       "BERT(\n",
       "  (embedding): InputEmbedding(\n",
       "    (P0_embeddings): Linear(in_features=3, out_features=360, bias=True)\n",
       "    (d_embeddings): Linear(in_features=181, out_features=360, bias=False)\n",
       "    (m_embeddings): Linear(in_features=13, out_features=360, bias=False)\n",
       "    (v_embeddings): Linear(in_features=20, out_features=360, bias=False)\n",
       "    (type_embeddings): Embedding(7, 360, padding_idx=6)\n",
       "    (time_embeddings): Embedding(367, 360, padding_idx=366)\n",
       "    (LayerNorm): LayerNorm((360,), eps=1e-05, elementwise_affine=True)\n",
       "    (dropout): Dropout(p=0.1, inplace=False)\n",
       "  )\n",
       "  (transformer_blocks): ModuleList(\n",
       "    (0): TransformerBlock(\n",
       "      (attention): MultiHeadedRelativeAttention(\n",
       "        (linear_layers): ModuleList(\n",
       "          (0): Linear(in_features=360, out_features=360, bias=True)\n",
       "          (1): Linear(in_features=360, out_features=360, bias=True)\n",
       "          (2): Linear(in_features=360, out_features=360, bias=True)\n",
       "        )\n",
       "        (output_linear): Linear(in_features=360, out_features=360, bias=True)\n",
       "        (attention): RelativeAttention()\n",
       "        (dropout): Dropout(p=0.1, inplace=False)\n",
       "        (posEmbedding): RelativePositionalEmbedding(\n",
       "          (r_embedding): Embedding(367, 360, padding_idx=366)\n",
       "        )\n",
       "      )\n",
       "      (feed_forward): PositionwiseFeedForward(\n",
       "        (w_1): Linear(in_features=360, out_features=1440, bias=True)\n",
       "        (w_2): Linear(in_features=1440, out_features=360, bias=True)\n",
       "        (dropout): Dropout(p=0.1, inplace=False)\n",
       "        (activation): GELU()\n",
       "      )\n",
       "      (input_sublayer): SublayerConnection(\n",
       "        (norm): LayerNorm()\n",
       "        (dropout): Dropout(p=0.1, inplace=False)\n",
       "      )\n",
       "      (output_sublayer): SublayerConnection(\n",
       "        (norm): LayerNorm()\n",
       "        (dropout): Dropout(p=0.1, inplace=False)\n",
       "      )\n",
       "      (dropout): Dropout(p=0.1, inplace=False)\n",
       "    )\n",
       "    (1): TransformerBlock(\n",
       "      (attention): MultiHeadedRelativeAttention(\n",
       "        (linear_layers): ModuleList(\n",
       "          (0): Linear(in_features=360, out_features=360, bias=True)\n",
       "          (1): Linear(in_features=360, out_features=360, bias=True)\n",
       "          (2): Linear(in_features=360, out_features=360, bias=True)\n",
       "        )\n",
       "        (output_linear): Linear(in_features=360, out_features=360, bias=True)\n",
       "        (attention): RelativeAttention()\n",
       "        (dropout): Dropout(p=0.1, inplace=False)\n",
       "        (posEmbedding): RelativePositionalEmbedding(\n",
       "          (r_embedding): Embedding(367, 360, padding_idx=366)\n",
       "        )\n",
       "      )\n",
       "      (feed_forward): PositionwiseFeedForward(\n",
       "        (w_1): Linear(in_features=360, out_features=1440, bias=True)\n",
       "        (w_2): Linear(in_features=1440, out_features=360, bias=True)\n",
       "        (dropout): Dropout(p=0.1, inplace=False)\n",
       "        (activation): GELU()\n",
       "      )\n",
       "      (input_sublayer): SublayerConnection(\n",
       "        (norm): LayerNorm()\n",
       "        (dropout): Dropout(p=0.1, inplace=False)\n",
       "      )\n",
       "      (output_sublayer): SublayerConnection(\n",
       "        (norm): LayerNorm()\n",
       "        (dropout): Dropout(p=0.1, inplace=False)\n",
       "      )\n",
       "      (dropout): Dropout(p=0.1, inplace=False)\n",
       "    )\n",
       "    (2): TransformerBlock(\n",
       "      (attention): MultiHeadedRelativeAttention(\n",
       "        (linear_layers): ModuleList(\n",
       "          (0): Linear(in_features=360, out_features=360, bias=True)\n",
       "          (1): Linear(in_features=360, out_features=360, bias=True)\n",
       "          (2): Linear(in_features=360, out_features=360, bias=True)\n",
       "        )\n",
       "        (output_linear): Linear(in_features=360, out_features=360, bias=True)\n",
       "        (attention): RelativeAttention()\n",
       "        (dropout): Dropout(p=0.1, inplace=False)\n",
       "        (posEmbedding): RelativePositionalEmbedding(\n",
       "          (r_embedding): Embedding(367, 360, padding_idx=366)\n",
       "        )\n",
       "      )\n",
       "      (feed_forward): PositionwiseFeedForward(\n",
       "        (w_1): Linear(in_features=360, out_features=1440, bias=True)\n",
       "        (w_2): Linear(in_features=1440, out_features=360, bias=True)\n",
       "        (dropout): Dropout(p=0.1, inplace=False)\n",
       "        (activation): GELU()\n",
       "      )\n",
       "      (input_sublayer): SublayerConnection(\n",
       "        (norm): LayerNorm()\n",
       "        (dropout): Dropout(p=0.1, inplace=False)\n",
       "      )\n",
       "      (output_sublayer): SublayerConnection(\n",
       "        (norm): LayerNorm()\n",
       "        (dropout): Dropout(p=0.1, inplace=False)\n",
       "      )\n",
       "      (dropout): Dropout(p=0.1, inplace=False)\n",
       "    )\n",
       "  )\n",
       ")"
      ]
     },
     "execution_count": 5,
     "metadata": {},
     "output_type": "execute_result"
    }
   ],
   "source": [
    "bert = import_bert(config, 9)\n",
    "bert.eval()\n",
    "for param in bert.parameters():\n",
    "    param.requires_grad = False\n",
    "device = torch.device(\"cuda\" if torch.cuda.is_available() else \"cpu\")\n",
    "bert.to(device)"
   ]
  },
  {
   "cell_type": "code",
   "execution_count": 6,
   "id": "581128d8-2b03-4590-b2aa-94d62ad3affb",
   "metadata": {
    "tags": []
   },
   "outputs": [],
   "source": [
    "states = {\n",
    "    '01': {'k': 10, 'states': [456], 'train_val': True},\n",
    "    '09': {'k': 10, 'states': [798], 'train_val': False},\n",
    "    '02': {'k': 5, 'states': [123, 456], 'train_val': True},\n",
    "    '0875': {'k': 8, 'states': [123, 456], 'train_val': False},\n",
    "    '05': {'k': 2, 'states': [123, 456, 789, 101, 121], 'train_val': True},\n",
    "    '0666': {'k': 3, 'states': [123, 456, 789, 101], 'train_val': False},\n",
    "    '08': {'k': 5, 'states': [123, 456], 'train_val': False},\n",
    "}"
   ]
  },
  {
   "cell_type": "code",
   "execution_count": 10,
   "id": "6c8981a8-f984-4ae3-882e-c6585f984ad0",
   "metadata": {
    "tags": []
   },
   "outputs": [],
   "source": [
    "loader = torch.utils.data.DataLoader(ds, batch_size=len(ds))\n",
    "#get_weights = lambda x: compute_class_weight('balanced',classes=np.array([0,1]),y=x)\n",
    "#\n",
    "#for data in loader:\n",
    "#    diags_all = torch.cat([data[f'd0_{y}'] for y in range(2015,2018)]).numpy()\n",
    "#    weights_classes = np.apply_along_axis(get_weights, 0, diags_all)\n",
    "#    \n",
    "weights_classes = np.array([[2.55449591, 0.61147619, 0.63088829, 0.59991361, 0.52707033],\n",
    "                           [0.62168435, 2.74263146, 2.41002571, 3.00216156, 9.73520249]])"
   ]
  },
  {
   "cell_type": "code",
   "execution_count": 8,
   "id": "3b641001-6428-4cfe-8085-9c49504aec85",
   "metadata": {
    "tags": []
   },
   "outputs": [],
   "source": [
    "class EarlyStopping():\n",
    "    def __init__(self, tolerance=5, min_delta=1e-5):\n",
    "\n",
    "        self.tolerance = tolerance\n",
    "        self.min_delta = min_delta\n",
    "        self.counter = 0\n",
    "        self.early_stop = False\n",
    "        self.max_auc = 0\n",
    "\n",
    "    def __call__(self, test_auc):\n",
    "        \n",
    "        if (test_auc-self.max_auc) > self.min_delta: #model is imporving performances\n",
    "            self.counter = 0\n",
    "            self.max_auc = test_auc\n",
    "        else:\n",
    "            self.counter +=1\n",
    "            if self.counter >= self.tolerance:  \n",
    "                self.early_stop = True"
   ]
  },
  {
   "cell_type": "code",
   "execution_count": 12,
   "id": "859ba805-9214-463c-9f3d-928e70cb5ccc",
   "metadata": {
    "tags": []
   },
   "outputs": [
    {
     "data": {
      "text/plain": [
       "{'Embedding': {'P0_size': 3, 'nd': 181, 'nm': 13, 'nv': 20, 'nmax': 40, 'hidden_dropout_prob': 0.1, 'time_emb': 'learn', 'max_time_embedding': 367, 'padd_indx_time': 366, 'type_size': 7, 'padd_indx_type': 6}, 'Model': {'hidden': 360, 'relative': True, 'attn_heads': 18, 'learn': True, 'n_layers': 3, 'dropout_attention': 0.1, 'dropout_trans': 0.1, 'feed_forward_hidden': 1440}, 'masks': {'diags': 0.5, 'drugs': 0.5, 'age': -5, 'tfd': -1, 'vars': 0}}"
      ]
     },
     "execution_count": 12,
     "metadata": {},
     "output_type": "execute_result"
    }
   ],
   "source": [
    "config"
   ]
  },
  {
   "cell_type": "code",
   "execution_count": 11,
   "id": "7251aa8f-8577-4861-8d09-f4ccc0b63efb",
   "metadata": {
    "tags": []
   },
   "outputs": [
    {
     "name": "stderr",
     "output_type": "stream",
     "text": [
      "EP_train:0:   0%|| 0/352 [00:00<?, ?it/s]"
     ]
    },
    {
     "name": "stdout",
     "output_type": "stream",
     "text": [
      "START ITERATION 1\n"
     ]
    },
    {
     "name": "stderr",
     "output_type": "stream",
     "text": [
      "EP_train:0: 100%|| 352/352 [03:43<00:00,  1.57it/s]\n",
      "EP_test:0:   0%|| 0/10 [00:00<?, ?it/s]"
     ]
    },
    {
     "name": "stdout",
     "output_type": "stream",
     "text": [
      "END TRAIN EPOCH\n",
      "{'epoch': 0, 'iter': 351, 'avg_loss': 0.641}\n"
     ]
    },
    {
     "name": "stderr",
     "output_type": "stream",
     "text": [
      "EP_test:0: 100%|| 10/10 [00:24<00:00,  2.44s/it]\n",
      "EP_train:1:   0%|| 0/352 [00:00<?, ?it/s]"
     ]
    },
    {
     "name": "stdout",
     "output_type": "stream",
     "text": [
      "END TEST EPOCH\n",
      "{'epoch': 0, 'iter': 9, 'avg_loss': 0.5758505500735064, 'avg_roc': 0.7451084570118469}\n",
      "--------------------------------------\n"
     ]
    },
    {
     "name": "stderr",
     "output_type": "stream",
     "text": [
      "EP_train:1: 100%|| 352/352 [03:43<00:00,  1.58it/s]\n",
      "EP_test:1:   0%|| 0/10 [00:00<?, ?it/s]"
     ]
    },
    {
     "name": "stdout",
     "output_type": "stream",
     "text": [
      "END TRAIN EPOCH\n",
      "{'epoch': 1, 'iter': 351, 'avg_loss': 0.584}\n"
     ]
    },
    {
     "name": "stderr",
     "output_type": "stream",
     "text": [
      "EP_test:1: 100%|| 10/10 [00:24<00:00,  2.44s/it]\n",
      "EP_train:2:   0%|| 0/352 [00:00<?, ?it/s]"
     ]
    },
    {
     "name": "stdout",
     "output_type": "stream",
     "text": [
      "END TEST EPOCH\n",
      "{'epoch': 1, 'iter': 9, 'avg_loss': 0.5545036965075567, 'avg_roc': 0.7889033490695387}\n",
      "--------------------------------------\n"
     ]
    },
    {
     "name": "stderr",
     "output_type": "stream",
     "text": [
      "EP_train:2: 100%|| 352/352 [03:43<00:00,  1.57it/s]\n",
      "EP_test:2:   0%|| 0/10 [00:00<?, ?it/s]"
     ]
    },
    {
     "name": "stdout",
     "output_type": "stream",
     "text": [
      "END TRAIN EPOCH\n",
      "{'epoch': 2, 'iter': 351, 'avg_loss': 0.549}\n"
     ]
    },
    {
     "name": "stderr",
     "output_type": "stream",
     "text": [
      "EP_test:2: 100%|| 10/10 [00:24<00:00,  2.43s/it]\n",
      "EP_train:3:   0%|| 0/352 [00:00<?, ?it/s]"
     ]
    },
    {
     "name": "stdout",
     "output_type": "stream",
     "text": [
      "END TEST EPOCH\n",
      "{'epoch': 2, 'iter': 9, 'avg_loss': 0.502586692645326, 'avg_roc': 0.8260643957119624}\n",
      "--------------------------------------\n"
     ]
    },
    {
     "name": "stderr",
     "output_type": "stream",
     "text": [
      "EP_train:3: 100%|| 352/352 [03:38<00:00,  1.61it/s]\n",
      "EP_test:3:   0%|| 0/10 [00:00<?, ?it/s]"
     ]
    },
    {
     "name": "stdout",
     "output_type": "stream",
     "text": [
      "END TRAIN EPOCH\n",
      "{'epoch': 3, 'iter': 351, 'avg_loss': 0.532}\n"
     ]
    },
    {
     "name": "stderr",
     "output_type": "stream",
     "text": [
      "EP_test:3: 100%|| 10/10 [00:23<00:00,  2.39s/it]\n",
      "EP_train:4:   0%|| 0/352 [00:00<?, ?it/s]"
     ]
    },
    {
     "name": "stdout",
     "output_type": "stream",
     "text": [
      "END TEST EPOCH\n",
      "{'epoch': 3, 'iter': 9, 'avg_loss': 0.4902891553767523, 'avg_roc': 0.8362614744799928}\n",
      "--------------------------------------\n"
     ]
    },
    {
     "name": "stderr",
     "output_type": "stream",
     "text": [
      "EP_train:4: 100%|| 352/352 [03:39<00:00,  1.60it/s]\n",
      "EP_test:4:   0%|| 0/10 [00:00<?, ?it/s]"
     ]
    },
    {
     "name": "stdout",
     "output_type": "stream",
     "text": [
      "END TRAIN EPOCH\n",
      "{'epoch': 4, 'iter': 351, 'avg_loss': 0.525}\n"
     ]
    },
    {
     "name": "stderr",
     "output_type": "stream",
     "text": [
      "EP_test:4: 100%|| 10/10 [00:24<00:00,  2.41s/it]\n",
      "EP_train:5:   0%|| 0/352 [00:00<?, ?it/s]"
     ]
    },
    {
     "name": "stdout",
     "output_type": "stream",
     "text": [
      "END TEST EPOCH\n",
      "{'epoch': 4, 'iter': 9, 'avg_loss': 0.4653810015030035, 'avg_roc': 0.8413555607990139}\n",
      "--------------------------------------\n"
     ]
    },
    {
     "name": "stderr",
     "output_type": "stream",
     "text": [
      "EP_train:5: 100%|| 352/352 [03:44<00:00,  1.57it/s]\n",
      "EP_test:5:   0%|| 0/10 [00:00<?, ?it/s]"
     ]
    },
    {
     "name": "stdout",
     "output_type": "stream",
     "text": [
      "END TRAIN EPOCH\n",
      "{'epoch': 5, 'iter': 351, 'avg_loss': 0.516}\n"
     ]
    },
    {
     "name": "stderr",
     "output_type": "stream",
     "text": [
      "EP_test:5: 100%|| 10/10 [00:24<00:00,  2.45s/it]\n",
      "EP_train:6:   0%|| 0/352 [00:00<?, ?it/s]"
     ]
    },
    {
     "name": "stdout",
     "output_type": "stream",
     "text": [
      "END TEST EPOCH\n",
      "{'epoch': 5, 'iter': 9, 'avg_loss': 0.46066797678443383, 'avg_roc': 0.8436415330627982}\n",
      "--------------------------------------\n"
     ]
    },
    {
     "name": "stderr",
     "output_type": "stream",
     "text": [
      "EP_train:6: 100%|| 352/352 [03:43<00:00,  1.57it/s]\n",
      "EP_test:6:   0%|| 0/10 [00:00<?, ?it/s]"
     ]
    },
    {
     "name": "stdout",
     "output_type": "stream",
     "text": [
      "END TRAIN EPOCH\n",
      "{'epoch': 6, 'iter': 351, 'avg_loss': 0.512}\n"
     ]
    },
    {
     "name": "stderr",
     "output_type": "stream",
     "text": [
      "EP_test:6: 100%|| 10/10 [00:24<00:00,  2.45s/it]\n",
      "EP_train:7:   0%|| 0/352 [00:00<?, ?it/s]"
     ]
    },
    {
     "name": "stdout",
     "output_type": "stream",
     "text": [
      "END TEST EPOCH\n",
      "{'epoch': 6, 'iter': 9, 'avg_loss': 0.4584680037323839, 'avg_roc': 0.8481130886629241}\n",
      "--------------------------------------\n"
     ]
    },
    {
     "name": "stderr",
     "output_type": "stream",
     "text": [
      "EP_train:7: 100%|| 352/352 [03:43<00:00,  1.57it/s]\n",
      "EP_test:7:   0%|| 0/10 [00:00<?, ?it/s]"
     ]
    },
    {
     "name": "stdout",
     "output_type": "stream",
     "text": [
      "END TRAIN EPOCH\n",
      "{'epoch': 7, 'iter': 351, 'avg_loss': 0.508}\n"
     ]
    },
    {
     "name": "stderr",
     "output_type": "stream",
     "text": [
      "EP_test:7: 100%|| 10/10 [00:24<00:00,  2.45s/it]\n",
      "EP_train:8:   0%|| 0/352 [00:00<?, ?it/s]"
     ]
    },
    {
     "name": "stdout",
     "output_type": "stream",
     "text": [
      "END TEST EPOCH\n",
      "{'epoch': 7, 'iter': 9, 'avg_loss': 0.4462343498133519, 'avg_roc': 0.8524394125206122}\n",
      "--------------------------------------\n"
     ]
    },
    {
     "name": "stderr",
     "output_type": "stream",
     "text": [
      "EP_train:8: 100%|| 352/352 [03:44<00:00,  1.57it/s]\n",
      "EP_test:8:   0%|| 0/10 [00:00<?, ?it/s]"
     ]
    },
    {
     "name": "stdout",
     "output_type": "stream",
     "text": [
      "END TRAIN EPOCH\n",
      "{'epoch': 8, 'iter': 351, 'avg_loss': 0.503}\n"
     ]
    },
    {
     "name": "stderr",
     "output_type": "stream",
     "text": [
      "EP_test:8: 100%|| 10/10 [00:24<00:00,  2.45s/it]\n",
      "EP_train:9:   0%|| 0/352 [00:00<?, ?it/s]"
     ]
    },
    {
     "name": "stdout",
     "output_type": "stream",
     "text": [
      "END TEST EPOCH\n",
      "{'epoch': 8, 'iter': 9, 'avg_loss': 0.4528344421838158, 'avg_roc': 0.8562920725963808}\n",
      "--------------------------------------\n"
     ]
    },
    {
     "name": "stderr",
     "output_type": "stream",
     "text": [
      "EP_train:9: 100%|| 352/352 [03:44<00:00,  1.57it/s]\n",
      "EP_test:9:   0%|| 0/10 [00:00<?, ?it/s]"
     ]
    },
    {
     "name": "stdout",
     "output_type": "stream",
     "text": [
      "END TRAIN EPOCH\n",
      "{'epoch': 9, 'iter': 351, 'avg_loss': 0.502}\n"
     ]
    },
    {
     "name": "stderr",
     "output_type": "stream",
     "text": [
      "EP_test:9: 100%|| 10/10 [00:24<00:00,  2.45s/it]\n",
      "EP_train:10:   0%|| 0/352 [00:00<?, ?it/s]"
     ]
    },
    {
     "name": "stdout",
     "output_type": "stream",
     "text": [
      "END TEST EPOCH\n",
      "{'epoch': 9, 'iter': 9, 'avg_loss': 0.4435264535500753, 'avg_roc': 0.8568908210073559}\n",
      "--------------------------------------\n"
     ]
    },
    {
     "name": "stderr",
     "output_type": "stream",
     "text": [
      "EP_train:10: 100%|| 352/352 [03:39<00:00,  1.60it/s]\n",
      "EP_test:10:   0%|| 0/10 [00:00<?, ?it/s]"
     ]
    },
    {
     "name": "stdout",
     "output_type": "stream",
     "text": [
      "END TRAIN EPOCH\n",
      "{'epoch': 10, 'iter': 351, 'avg_loss': 0.493}\n"
     ]
    },
    {
     "name": "stderr",
     "output_type": "stream",
     "text": [
      "EP_test:10: 100%|| 10/10 [00:23<00:00,  2.40s/it]\n",
      "EP_train:11:   0%|| 0/352 [00:00<?, ?it/s]"
     ]
    },
    {
     "name": "stdout",
     "output_type": "stream",
     "text": [
      "END TEST EPOCH\n",
      "{'epoch': 10, 'iter': 9, 'avg_loss': 0.4479296638285998, 'avg_roc': 0.8561397002344517}\n",
      "--------------------------------------\n"
     ]
    },
    {
     "name": "stderr",
     "output_type": "stream",
     "text": [
      "EP_train:11: 100%|| 352/352 [03:40<00:00,  1.60it/s]\n",
      "EP_test:11:   0%|| 0/10 [00:00<?, ?it/s]"
     ]
    },
    {
     "name": "stdout",
     "output_type": "stream",
     "text": [
      "END TRAIN EPOCH\n",
      "{'epoch': 11, 'iter': 351, 'avg_loss': 0.492}\n"
     ]
    },
    {
     "name": "stderr",
     "output_type": "stream",
     "text": [
      "EP_test:11: 100%|| 10/10 [00:24<00:00,  2.41s/it]\n",
      "EP_train:12:   0%|| 0/352 [00:00<?, ?it/s]"
     ]
    },
    {
     "name": "stdout",
     "output_type": "stream",
     "text": [
      "END TEST EPOCH\n",
      "{'epoch': 11, 'iter': 9, 'avg_loss': 0.45116919380260717, 'avg_roc': 0.8588291973807533}\n",
      "--------------------------------------\n"
     ]
    },
    {
     "name": "stderr",
     "output_type": "stream",
     "text": [
      "EP_train:12: 100%|| 352/352 [03:43<00:00,  1.57it/s]\n",
      "EP_test:12:   0%|| 0/10 [00:00<?, ?it/s]"
     ]
    },
    {
     "name": "stdout",
     "output_type": "stream",
     "text": [
      "END TRAIN EPOCH\n",
      "{'epoch': 12, 'iter': 351, 'avg_loss': 0.485}\n"
     ]
    },
    {
     "name": "stderr",
     "output_type": "stream",
     "text": [
      "EP_test:12: 100%|| 10/10 [00:24<00:00,  2.45s/it]\n",
      "EP_train:13:   0%|| 0/352 [00:00<?, ?it/s]"
     ]
    },
    {
     "name": "stdout",
     "output_type": "stream",
     "text": [
      "END TEST EPOCH\n",
      "{'epoch': 12, 'iter': 9, 'avg_loss': 0.4678845828353615, 'avg_roc': 0.8558863312659024}\n",
      "--------------------------------------\n"
     ]
    },
    {
     "name": "stderr",
     "output_type": "stream",
     "text": [
      "EP_train:13: 100%|| 352/352 [03:35<00:00,  1.64it/s]\n",
      "EP_test:13:   0%|| 0/10 [00:00<?, ?it/s]"
     ]
    },
    {
     "name": "stdout",
     "output_type": "stream",
     "text": [
      "END TRAIN EPOCH\n",
      "{'epoch': 13, 'iter': 351, 'avg_loss': 0.482}\n"
     ]
    },
    {
     "name": "stderr",
     "output_type": "stream",
     "text": [
      "EP_test:13: 100%|| 10/10 [00:23<00:00,  2.35s/it]\n",
      "EP_train:14:   0%|| 0/352 [00:00<?, ?it/s]"
     ]
    },
    {
     "name": "stdout",
     "output_type": "stream",
     "text": [
      "END TEST EPOCH\n",
      "{'epoch': 13, 'iter': 9, 'avg_loss': 0.46313400371790003, 'avg_roc': 0.8571274063469639}\n",
      "--------------------------------------\n"
     ]
    },
    {
     "name": "stderr",
     "output_type": "stream",
     "text": [
      "EP_train:14: 100%|| 352/352 [03:36<00:00,  1.63it/s]\n",
      "EP_test:14:   0%|| 0/10 [00:00<?, ?it/s]"
     ]
    },
    {
     "name": "stdout",
     "output_type": "stream",
     "text": [
      "END TRAIN EPOCH\n",
      "{'epoch': 14, 'iter': 351, 'avg_loss': 0.478}\n"
     ]
    },
    {
     "name": "stderr",
     "output_type": "stream",
     "text": [
      "EP_test:14: 100%|| 10/10 [00:23<00:00,  2.38s/it]\n",
      "EP_train:15:   0%|| 0/352 [00:00<?, ?it/s]"
     ]
    },
    {
     "name": "stdout",
     "output_type": "stream",
     "text": [
      "END TEST EPOCH\n",
      "{'epoch': 14, 'iter': 9, 'avg_loss': 0.4716691779637233, 'avg_roc': 0.8529382345592695}\n",
      "--------------------------------------\n"
     ]
    },
    {
     "name": "stderr",
     "output_type": "stream",
     "text": [
      "EP_train:15: 100%|| 352/352 [03:36<00:00,  1.62it/s]\n",
      "EP_test:15:   0%|| 0/10 [00:00<?, ?it/s]"
     ]
    },
    {
     "name": "stdout",
     "output_type": "stream",
     "text": [
      "END TRAIN EPOCH\n",
      "{'epoch': 15, 'iter': 351, 'avg_loss': 0.472}\n"
     ]
    },
    {
     "name": "stderr",
     "output_type": "stream",
     "text": [
      "EP_test:15: 100%|| 10/10 [00:23<00:00,  2.38s/it]\n",
      "EP_train:16:   0%|| 0/352 [00:00<?, ?it/s]"
     ]
    },
    {
     "name": "stdout",
     "output_type": "stream",
     "text": [
      "END TEST EPOCH\n",
      "{'epoch': 15, 'iter': 9, 'avg_loss': 0.4587401154083448, 'avg_roc': 0.8565235121724657}\n",
      "--------------------------------------\n"
     ]
    },
    {
     "name": "stderr",
     "output_type": "stream",
     "text": [
      "EP_train:16: 100%|| 352/352 [03:36<00:00,  1.62it/s]\n",
      "EP_test:16:   0%|| 0/10 [00:00<?, ?it/s]"
     ]
    },
    {
     "name": "stdout",
     "output_type": "stream",
     "text": [
      "END TRAIN EPOCH\n",
      "{'epoch': 16, 'iter': 351, 'avg_loss': 0.472}\n"
     ]
    },
    {
     "name": "stderr",
     "output_type": "stream",
     "text": [
      "EP_test:16: 100%|| 10/10 [00:23<00:00,  2.38s/it]\n",
      "EP_train:17:   0%|| 0/352 [00:00<?, ?it/s]"
     ]
    },
    {
     "name": "stdout",
     "output_type": "stream",
     "text": [
      "END TEST EPOCH\n",
      "{'epoch': 16, 'iter': 9, 'avg_loss': 0.451353746364047, 'avg_roc': 0.8630978592946906}\n",
      "--------------------------------------\n"
     ]
    },
    {
     "name": "stderr",
     "output_type": "stream",
     "text": [
      "EP_train:17: 100%|| 352/352 [03:36<00:00,  1.62it/s]\n",
      "EP_test:17:   0%|| 0/10 [00:00<?, ?it/s]"
     ]
    },
    {
     "name": "stdout",
     "output_type": "stream",
     "text": [
      "END TRAIN EPOCH\n",
      "{'epoch': 17, 'iter': 351, 'avg_loss': 0.468}\n"
     ]
    },
    {
     "name": "stderr",
     "output_type": "stream",
     "text": [
      "EP_test:17: 100%|| 10/10 [00:23<00:00,  2.37s/it]\n",
      "EP_train:18:   0%|| 0/352 [00:00<?, ?it/s]"
     ]
    },
    {
     "name": "stdout",
     "output_type": "stream",
     "text": [
      "END TEST EPOCH\n",
      "{'epoch': 17, 'iter': 9, 'avg_loss': 0.45395616533755845, 'avg_roc': 0.8591587414628699}\n",
      "--------------------------------------\n"
     ]
    },
    {
     "name": "stderr",
     "output_type": "stream",
     "text": [
      "EP_train:18: 100%|| 352/352 [03:31<00:00,  1.67it/s]\n",
      "EP_test:18:   0%|| 0/10 [00:00<?, ?it/s]"
     ]
    },
    {
     "name": "stdout",
     "output_type": "stream",
     "text": [
      "END TRAIN EPOCH\n",
      "{'epoch': 18, 'iter': 351, 'avg_loss': 0.464}\n"
     ]
    },
    {
     "name": "stderr",
     "output_type": "stream",
     "text": [
      "EP_test:18: 100%|| 10/10 [00:23<00:00,  2.32s/it]\n",
      "EP_train:19:   0%|| 0/352 [00:00<?, ?it/s]"
     ]
    },
    {
     "name": "stdout",
     "output_type": "stream",
     "text": [
      "END TEST EPOCH\n",
      "{'epoch': 18, 'iter': 9, 'avg_loss': 0.4776142417457045, 'avg_roc': 0.8463922520704361}\n",
      "--------------------------------------\n"
     ]
    },
    {
     "name": "stderr",
     "output_type": "stream",
     "text": [
      "EP_train:19: 100%|| 352/352 [03:31<00:00,  1.66it/s]\n",
      "EP_test:19:   0%|| 0/10 [00:00<?, ?it/s]"
     ]
    },
    {
     "name": "stdout",
     "output_type": "stream",
     "text": [
      "END TRAIN EPOCH\n",
      "{'epoch': 19, 'iter': 351, 'avg_loss': 0.46}\n"
     ]
    },
    {
     "name": "stderr",
     "output_type": "stream",
     "text": [
      "EP_test:19: 100%|| 10/10 [00:23<00:00,  2.32s/it]\n",
      "EP_train:0:   0%|| 0/40 [00:00<?, ?it/s]"
     ]
    },
    {
     "name": "stdout",
     "output_type": "stream",
     "text": [
      "END TEST EPOCH\n",
      "{'epoch': 19, 'iter': 9, 'avg_loss': 0.4928468747182174, 'avg_roc': 0.8417710152763265}\n",
      "--------------------------------------\n",
      "START ITERATION 1\n"
     ]
    },
    {
     "name": "stderr",
     "output_type": "stream",
     "text": [
      "EP_train:0: 100%|| 40/40 [00:23<00:00,  1.68it/s]\n",
      "EP_test:0:   0%|| 0/88 [00:00<?, ?it/s]"
     ]
    },
    {
     "name": "stdout",
     "output_type": "stream",
     "text": [
      "END TRAIN EPOCH\n",
      "{'epoch': 0, 'iter': 39, 'avg_loss': 0.7}\n"
     ]
    },
    {
     "name": "stderr",
     "output_type": "stream",
     "text": [
      "EP_test:0: 100%|| 88/88 [03:28<00:00,  2.37s/it]\n",
      "EP_train:1:   0%|| 0/40 [00:00<?, ?it/s]"
     ]
    },
    {
     "name": "stdout",
     "output_type": "stream",
     "text": [
      "END TEST EPOCH\n",
      "{'epoch': 0, 'iter': 87, 'avg_loss': 0.699847260296282, 'avg_roc': 0.5288360163099122}\n",
      "--------------------------------------\n"
     ]
    },
    {
     "name": "stderr",
     "output_type": "stream",
     "text": [
      "EP_train:1: 100%|| 40/40 [00:23<00:00,  1.68it/s]\n",
      "EP_test:1:   0%|| 0/88 [00:00<?, ?it/s]"
     ]
    },
    {
     "name": "stdout",
     "output_type": "stream",
     "text": [
      "END TRAIN EPOCH\n",
      "{'epoch': 1, 'iter': 39, 'avg_loss': 0.699}\n"
     ]
    },
    {
     "name": "stderr",
     "output_type": "stream",
     "text": [
      "EP_test:1:   2%|| 2/88 [00:06<05:00,  3.50s/it]\n"
     ]
    },
    {
     "ename": "KeyboardInterrupt",
     "evalue": "",
     "output_type": "error",
     "traceback": [
      "\u001b[0;31m---------------------------------------------------------------------------\u001b[0m",
      "\u001b[0;31mKeyboardInterrupt\u001b[0m                         Traceback (most recent call last)",
      "\u001b[0;32m<ipython-input-11-57282ace2ddc>\u001b[0m in \u001b[0;36m<module>\u001b[0;34m\u001b[0m\n\u001b[1;32m     39\u001b[0m                 \u001b[0;32mfor\u001b[0m \u001b[0mep\u001b[0m \u001b[0;32min\u001b[0m \u001b[0mrange\u001b[0m\u001b[0;34m(\u001b[0m\u001b[0mepochs\u001b[0m\u001b[0;34m)\u001b[0m\u001b[0;34m:\u001b[0m\u001b[0;34m\u001b[0m\u001b[0;34m\u001b[0m\u001b[0m\n\u001b[1;32m     40\u001b[0m                     \u001b[0mlosses_tmp\u001b[0m\u001b[0;34m[\u001b[0m\u001b[0;34mf'train_{i}'\u001b[0m\u001b[0;34m]\u001b[0m \u001b[0;34m=\u001b[0m \u001b[0mtrain_iteration\u001b[0m\u001b[0;34m(\u001b[0m\u001b[0mmodel\u001b[0m\u001b[0;34m,\u001b[0m \u001b[0mtrain_loader\u001b[0m\u001b[0;34m,\u001b[0m \u001b[0mep\u001b[0m\u001b[0;34m,\u001b[0m\u001b[0;36m100\u001b[0m\u001b[0;34m)\u001b[0m\u001b[0;34m\u001b[0m\u001b[0;34m\u001b[0m\u001b[0m\n\u001b[0;32m---> 41\u001b[0;31m                     \u001b[0mres\u001b[0m\u001b[0;34m,\u001b[0m \u001b[0mlabs_i\u001b[0m\u001b[0;34m,\u001b[0m \u001b[0mpreds_i\u001b[0m\u001b[0;34m,\u001b[0m \u001b[0midps_i\u001b[0m \u001b[0;34m=\u001b[0m \u001b[0mtest_iteration\u001b[0m\u001b[0;34m(\u001b[0m\u001b[0mmodel\u001b[0m\u001b[0;34m,\u001b[0m \u001b[0mvalidation_loader\u001b[0m\u001b[0;34m,\u001b[0m \u001b[0mep\u001b[0m\u001b[0;34m,\u001b[0m\u001b[0;36m100\u001b[0m\u001b[0;34m)\u001b[0m\u001b[0;34m\u001b[0m\u001b[0;34m\u001b[0m\u001b[0m\n\u001b[0m\u001b[1;32m     42\u001b[0m                     \u001b[0mlosses_tmp\u001b[0m\u001b[0;34m[\u001b[0m\u001b[0;34mf'test_{ep}'\u001b[0m\u001b[0;34m]\u001b[0m \u001b[0;34m=\u001b[0m \u001b[0mres\u001b[0m\u001b[0;34m\u001b[0m\u001b[0;34m\u001b[0m\u001b[0m\n\u001b[1;32m     43\u001b[0m                     \u001b[0;32mif\u001b[0m \u001b[0mres\u001b[0m\u001b[0;34m[\u001b[0m\u001b[0;34m'avg_roc'\u001b[0m\u001b[0;34m]\u001b[0m \u001b[0;34m>=\u001b[0m \u001b[0mmax_roc\u001b[0m\u001b[0;34m:\u001b[0m\u001b[0;34m\u001b[0m\u001b[0;34m\u001b[0m\u001b[0m\n",
      "\u001b[0;32m<ipython-input-3-ed5204a07daf>\u001b[0m in \u001b[0;36mtest_iteration\u001b[0;34m(model, data_loader, epoch, log_freq)\u001b[0m\n\u001b[1;32m     49\u001b[0m     \u001b[0mi_tmp\u001b[0m \u001b[0;34m=\u001b[0m \u001b[0;36m0\u001b[0m\u001b[0;34m\u001b[0m\u001b[0;34m\u001b[0m\u001b[0m\n\u001b[1;32m     50\u001b[0m     \u001b[0midps_all\u001b[0m \u001b[0;34m=\u001b[0m \u001b[0;34m[\u001b[0m\u001b[0;34m]\u001b[0m\u001b[0;34m\u001b[0m\u001b[0;34m\u001b[0m\u001b[0m\n\u001b[0;32m---> 51\u001b[0;31m     \u001b[0;32mfor\u001b[0m \u001b[0mi\u001b[0m\u001b[0;34m,\u001b[0m \u001b[0mdata\u001b[0m \u001b[0;32min\u001b[0m \u001b[0mdata_iter\u001b[0m\u001b[0;34m:\u001b[0m\u001b[0;34m\u001b[0m\u001b[0;34m\u001b[0m\u001b[0m\n\u001b[0m\u001b[1;32m     52\u001b[0m \u001b[0;34m\u001b[0m\u001b[0m\n\u001b[1;32m     53\u001b[0m         \u001b[0;31m# 0. batch_data will be sent into the device(GPU or cpu)\u001b[0m\u001b[0;34m\u001b[0m\u001b[0;34m\u001b[0m\u001b[0;34m\u001b[0m\u001b[0m\n",
      "\u001b[0;32m~/.local/lib/python3.8/site-packages/tqdm/std.py\u001b[0m in \u001b[0;36m__iter__\u001b[0;34m(self)\u001b[0m\n\u001b[1;32m   1163\u001b[0m \u001b[0;34m\u001b[0m\u001b[0m\n\u001b[1;32m   1164\u001b[0m         \u001b[0;32mtry\u001b[0m\u001b[0;34m:\u001b[0m\u001b[0;34m\u001b[0m\u001b[0;34m\u001b[0m\u001b[0m\n\u001b[0;32m-> 1165\u001b[0;31m             \u001b[0;32mfor\u001b[0m \u001b[0mobj\u001b[0m \u001b[0;32min\u001b[0m \u001b[0miterable\u001b[0m\u001b[0;34m:\u001b[0m\u001b[0;34m\u001b[0m\u001b[0;34m\u001b[0m\u001b[0m\n\u001b[0m\u001b[1;32m   1166\u001b[0m                 \u001b[0;32myield\u001b[0m \u001b[0mobj\u001b[0m\u001b[0;34m\u001b[0m\u001b[0;34m\u001b[0m\u001b[0m\n\u001b[1;32m   1167\u001b[0m                 \u001b[0;31m# Update and possibly print the progressbar.\u001b[0m\u001b[0;34m\u001b[0m\u001b[0;34m\u001b[0m\u001b[0;34m\u001b[0m\u001b[0m\n",
      "\u001b[0;32m~/.local/lib/python3.8/site-packages/torch/utils/data/dataloader.py\u001b[0m in \u001b[0;36m__next__\u001b[0;34m(self)\u001b[0m\n\u001b[1;32m    679\u001b[0m                 \u001b[0;31m# TODO(https://github.com/pytorch/pytorch/issues/76750)\u001b[0m\u001b[0;34m\u001b[0m\u001b[0;34m\u001b[0m\u001b[0;34m\u001b[0m\u001b[0m\n\u001b[1;32m    680\u001b[0m                 \u001b[0mself\u001b[0m\u001b[0;34m.\u001b[0m\u001b[0m_reset\u001b[0m\u001b[0;34m(\u001b[0m\u001b[0;34m)\u001b[0m  \u001b[0;31m# type: ignore[call-arg]\u001b[0m\u001b[0;34m\u001b[0m\u001b[0;34m\u001b[0m\u001b[0m\n\u001b[0;32m--> 681\u001b[0;31m             \u001b[0mdata\u001b[0m \u001b[0;34m=\u001b[0m \u001b[0mself\u001b[0m\u001b[0;34m.\u001b[0m\u001b[0m_next_data\u001b[0m\u001b[0;34m(\u001b[0m\u001b[0;34m)\u001b[0m\u001b[0;34m\u001b[0m\u001b[0;34m\u001b[0m\u001b[0m\n\u001b[0m\u001b[1;32m    682\u001b[0m             \u001b[0mself\u001b[0m\u001b[0;34m.\u001b[0m\u001b[0m_num_yielded\u001b[0m \u001b[0;34m+=\u001b[0m \u001b[0;36m1\u001b[0m\u001b[0;34m\u001b[0m\u001b[0;34m\u001b[0m\u001b[0m\n\u001b[1;32m    683\u001b[0m             \u001b[0;32mif\u001b[0m \u001b[0mself\u001b[0m\u001b[0;34m.\u001b[0m\u001b[0m_dataset_kind\u001b[0m \u001b[0;34m==\u001b[0m \u001b[0m_DatasetKind\u001b[0m\u001b[0;34m.\u001b[0m\u001b[0mIterable\u001b[0m \u001b[0;32mand\u001b[0m\u001b[0;31m \u001b[0m\u001b[0;31m\\\u001b[0m\u001b[0;34m\u001b[0m\u001b[0;34m\u001b[0m\u001b[0m\n",
      "\u001b[0;32m~/.local/lib/python3.8/site-packages/torch/utils/data/dataloader.py\u001b[0m in \u001b[0;36m_next_data\u001b[0;34m(self)\u001b[0m\n\u001b[1;32m    719\u001b[0m     \u001b[0;32mdef\u001b[0m \u001b[0m_next_data\u001b[0m\u001b[0;34m(\u001b[0m\u001b[0mself\u001b[0m\u001b[0;34m)\u001b[0m\u001b[0;34m:\u001b[0m\u001b[0;34m\u001b[0m\u001b[0;34m\u001b[0m\u001b[0m\n\u001b[1;32m    720\u001b[0m         \u001b[0mindex\u001b[0m \u001b[0;34m=\u001b[0m \u001b[0mself\u001b[0m\u001b[0;34m.\u001b[0m\u001b[0m_next_index\u001b[0m\u001b[0;34m(\u001b[0m\u001b[0;34m)\u001b[0m  \u001b[0;31m# may raise StopIteration\u001b[0m\u001b[0;34m\u001b[0m\u001b[0;34m\u001b[0m\u001b[0m\n\u001b[0;32m--> 721\u001b[0;31m         \u001b[0mdata\u001b[0m \u001b[0;34m=\u001b[0m \u001b[0mself\u001b[0m\u001b[0;34m.\u001b[0m\u001b[0m_dataset_fetcher\u001b[0m\u001b[0;34m.\u001b[0m\u001b[0mfetch\u001b[0m\u001b[0;34m(\u001b[0m\u001b[0mindex\u001b[0m\u001b[0;34m)\u001b[0m  \u001b[0;31m# may raise StopIteration\u001b[0m\u001b[0;34m\u001b[0m\u001b[0;34m\u001b[0m\u001b[0m\n\u001b[0m\u001b[1;32m    722\u001b[0m         \u001b[0;32mif\u001b[0m \u001b[0mself\u001b[0m\u001b[0;34m.\u001b[0m\u001b[0m_pin_memory\u001b[0m\u001b[0;34m:\u001b[0m\u001b[0;34m\u001b[0m\u001b[0;34m\u001b[0m\u001b[0m\n\u001b[1;32m    723\u001b[0m             \u001b[0mdata\u001b[0m \u001b[0;34m=\u001b[0m \u001b[0m_utils\u001b[0m\u001b[0;34m.\u001b[0m\u001b[0mpin_memory\u001b[0m\u001b[0;34m.\u001b[0m\u001b[0mpin_memory\u001b[0m\u001b[0;34m(\u001b[0m\u001b[0mdata\u001b[0m\u001b[0;34m,\u001b[0m \u001b[0mself\u001b[0m\u001b[0;34m.\u001b[0m\u001b[0m_pin_memory_device\u001b[0m\u001b[0;34m)\u001b[0m\u001b[0;34m\u001b[0m\u001b[0;34m\u001b[0m\u001b[0m\n",
      "\u001b[0;32m~/.local/lib/python3.8/site-packages/torch/utils/data/_utils/fetch.py\u001b[0m in \u001b[0;36mfetch\u001b[0;34m(self, possibly_batched_index)\u001b[0m\n\u001b[1;32m     47\u001b[0m     \u001b[0;32mdef\u001b[0m \u001b[0mfetch\u001b[0m\u001b[0;34m(\u001b[0m\u001b[0mself\u001b[0m\u001b[0;34m,\u001b[0m \u001b[0mpossibly_batched_index\u001b[0m\u001b[0;34m)\u001b[0m\u001b[0;34m:\u001b[0m\u001b[0;34m\u001b[0m\u001b[0;34m\u001b[0m\u001b[0m\n\u001b[1;32m     48\u001b[0m         \u001b[0;32mif\u001b[0m \u001b[0mself\u001b[0m\u001b[0;34m.\u001b[0m\u001b[0mauto_collation\u001b[0m\u001b[0;34m:\u001b[0m\u001b[0;34m\u001b[0m\u001b[0;34m\u001b[0m\u001b[0m\n\u001b[0;32m---> 49\u001b[0;31m             \u001b[0mdata\u001b[0m \u001b[0;34m=\u001b[0m \u001b[0;34m[\u001b[0m\u001b[0mself\u001b[0m\u001b[0;34m.\u001b[0m\u001b[0mdataset\u001b[0m\u001b[0;34m[\u001b[0m\u001b[0midx\u001b[0m\u001b[0;34m]\u001b[0m \u001b[0;32mfor\u001b[0m \u001b[0midx\u001b[0m \u001b[0;32min\u001b[0m \u001b[0mpossibly_batched_index\u001b[0m\u001b[0;34m]\u001b[0m\u001b[0;34m\u001b[0m\u001b[0;34m\u001b[0m\u001b[0m\n\u001b[0m\u001b[1;32m     50\u001b[0m         \u001b[0;32melse\u001b[0m\u001b[0;34m:\u001b[0m\u001b[0;34m\u001b[0m\u001b[0;34m\u001b[0m\u001b[0m\n\u001b[1;32m     51\u001b[0m             \u001b[0mdata\u001b[0m \u001b[0;34m=\u001b[0m \u001b[0mself\u001b[0m\u001b[0;34m.\u001b[0m\u001b[0mdataset\u001b[0m\u001b[0;34m[\u001b[0m\u001b[0mpossibly_batched_index\u001b[0m\u001b[0;34m]\u001b[0m\u001b[0;34m\u001b[0m\u001b[0;34m\u001b[0m\u001b[0m\n",
      "\u001b[0;32m~/.local/lib/python3.8/site-packages/torch/utils/data/_utils/fetch.py\u001b[0m in \u001b[0;36m<listcomp>\u001b[0;34m(.0)\u001b[0m\n\u001b[1;32m     47\u001b[0m     \u001b[0;32mdef\u001b[0m \u001b[0mfetch\u001b[0m\u001b[0;34m(\u001b[0m\u001b[0mself\u001b[0m\u001b[0;34m,\u001b[0m \u001b[0mpossibly_batched_index\u001b[0m\u001b[0;34m)\u001b[0m\u001b[0;34m:\u001b[0m\u001b[0;34m\u001b[0m\u001b[0;34m\u001b[0m\u001b[0m\n\u001b[1;32m     48\u001b[0m         \u001b[0;32mif\u001b[0m \u001b[0mself\u001b[0m\u001b[0;34m.\u001b[0m\u001b[0mauto_collation\u001b[0m\u001b[0;34m:\u001b[0m\u001b[0;34m\u001b[0m\u001b[0;34m\u001b[0m\u001b[0m\n\u001b[0;32m---> 49\u001b[0;31m             \u001b[0mdata\u001b[0m \u001b[0;34m=\u001b[0m \u001b[0;34m[\u001b[0m\u001b[0mself\u001b[0m\u001b[0;34m.\u001b[0m\u001b[0mdataset\u001b[0m\u001b[0;34m[\u001b[0m\u001b[0midx\u001b[0m\u001b[0;34m]\u001b[0m \u001b[0;32mfor\u001b[0m \u001b[0midx\u001b[0m \u001b[0;32min\u001b[0m \u001b[0mpossibly_batched_index\u001b[0m\u001b[0;34m]\u001b[0m\u001b[0;34m\u001b[0m\u001b[0;34m\u001b[0m\u001b[0m\n\u001b[0m\u001b[1;32m     50\u001b[0m         \u001b[0;32melse\u001b[0m\u001b[0;34m:\u001b[0m\u001b[0;34m\u001b[0m\u001b[0;34m\u001b[0m\u001b[0m\n\u001b[1;32m     51\u001b[0m             \u001b[0mdata\u001b[0m \u001b[0;34m=\u001b[0m \u001b[0mself\u001b[0m\u001b[0;34m.\u001b[0m\u001b[0mdataset\u001b[0m\u001b[0;34m[\u001b[0m\u001b[0mpossibly_batched_index\u001b[0m\u001b[0;34m]\u001b[0m\u001b[0;34m\u001b[0m\u001b[0;34m\u001b[0m\u001b[0m\n",
      "\u001b[0;32m~/transformer_final/Model/Datasets/ds_FT.py\u001b[0m in \u001b[0;36m__getitem__\u001b[0;34m(self, idx)\u001b[0m\n\u001b[1;32m     55\u001b[0m         \u001b[0myears\u001b[0m \u001b[0;34m=\u001b[0m \u001b[0;34m[\u001b[0m\u001b[0my_tmp\u001b[0m \u001b[0;32mfor\u001b[0m \u001b[0my_tmp\u001b[0m \u001b[0;32min\u001b[0m \u001b[0mself\u001b[0m\u001b[0;34m.\u001b[0m\u001b[0mevents_list\u001b[0m\u001b[0;34m.\u001b[0m\u001b[0mkeys\u001b[0m\u001b[0;34m(\u001b[0m\u001b[0;34m)\u001b[0m \u001b[0;32mif\u001b[0m \u001b[0my_tmp\u001b[0m\u001b[0;34m!=\u001b[0m\u001b[0my\u001b[0m\u001b[0;34m]\u001b[0m\u001b[0;34m\u001b[0m\u001b[0;34m\u001b[0m\u001b[0m\n\u001b[1;32m     56\u001b[0m         \u001b[0mlabs_out\u001b[0m \u001b[0;34m=\u001b[0m \u001b[0mself\u001b[0m\u001b[0;34m.\u001b[0m\u001b[0mget_d_m_outputs\u001b[0m\u001b[0;34m(\u001b[0m\u001b[0midp\u001b[0m\u001b[0;34m,\u001b[0m \u001b[0;34m[\u001b[0m\u001b[0my\u001b[0m\u001b[0;34m+\u001b[0m\u001b[0;36m1\u001b[0m \u001b[0;32mfor\u001b[0m \u001b[0my\u001b[0m \u001b[0;32min\u001b[0m \u001b[0myears\u001b[0m\u001b[0;34m]\u001b[0m\u001b[0;34m)\u001b[0m\u001b[0;34m\u001b[0m\u001b[0;34m\u001b[0m\u001b[0m\n\u001b[0;32m---> 57\u001b[0;31m         \u001b[0mhba1c_out\u001b[0m \u001b[0;34m=\u001b[0m \u001b[0mself\u001b[0m\u001b[0;34m.\u001b[0m\u001b[0mget_hba1c_outputs\u001b[0m\u001b[0;34m(\u001b[0m\u001b[0midp\u001b[0m\u001b[0;34m,\u001b[0m \u001b[0myears\u001b[0m\u001b[0;34m)\u001b[0m\u001b[0;34m\u001b[0m\u001b[0;34m\u001b[0m\u001b[0m\n\u001b[0m\u001b[1;32m     58\u001b[0m         \u001b[0mhba1c_targets\u001b[0m \u001b[0;34m=\u001b[0m \u001b[0mself\u001b[0m\u001b[0;34m.\u001b[0m\u001b[0mget_hba1c_targets\u001b[0m\u001b[0;34m(\u001b[0m\u001b[0midp\u001b[0m\u001b[0;34m)\u001b[0m\u001b[0;34m\u001b[0m\u001b[0;34m\u001b[0m\u001b[0m\n\u001b[1;32m     59\u001b[0m \u001b[0;34m\u001b[0m\u001b[0m\n",
      "\u001b[0;32m~/transformer_final/Model/Datasets/ds_FT.py\u001b[0m in \u001b[0;36mget_hba1c_outputs\u001b[0;34m(self, idp, years)\u001b[0m\n\u001b[1;32m    103\u001b[0m             \u001b[0mmean_hbaic\u001b[0m\u001b[0;34m,\u001b[0m \u001b[0mn_hba1c\u001b[0m \u001b[0;34m=\u001b[0m \u001b[0;36m0\u001b[0m\u001b[0;34m,\u001b[0m \u001b[0;36m0\u001b[0m\u001b[0;34m\u001b[0m\u001b[0;34m\u001b[0m\u001b[0m\n\u001b[1;32m    104\u001b[0m             \u001b[0;32mfor\u001b[0m \u001b[0mev\u001b[0m \u001b[0;32min\u001b[0m \u001b[0mevs\u001b[0m\u001b[0;34m:\u001b[0m\u001b[0;34m\u001b[0m\u001b[0;34m\u001b[0m\u001b[0m\n\u001b[0;32m--> 105\u001b[0;31m                 \u001b[0;32mif\u001b[0m \u001b[0mev\u001b[0m\u001b[0;34m.\u001b[0m\u001b[0mget_val\u001b[0m\u001b[0;34m(\u001b[0m\u001b[0;34m)\u001b[0m\u001b[0;34m[\u001b[0m\u001b[0;36m2\u001b[0m\u001b[0;34m]\u001b[0m\u001b[0;34m[\u001b[0m\u001b[0mindx\u001b[0m\u001b[0;34m]\u001b[0m \u001b[0;34m!=\u001b[0m\u001b[0;36m0\u001b[0m\u001b[0;34m:\u001b[0m\u001b[0;34m\u001b[0m\u001b[0;34m\u001b[0m\u001b[0m\n\u001b[0m\u001b[1;32m    106\u001b[0m                     \u001b[0mmean_hbaic\u001b[0m \u001b[0;34m+=\u001b[0m \u001b[0mev\u001b[0m\u001b[0;34m.\u001b[0m\u001b[0mget_val\u001b[0m\u001b[0;34m(\u001b[0m\u001b[0;34m)\u001b[0m\u001b[0;34m[\u001b[0m\u001b[0;36m2\u001b[0m\u001b[0;34m]\u001b[0m\u001b[0;34m[\u001b[0m\u001b[0mindx\u001b[0m\u001b[0;34m]\u001b[0m\u001b[0;34m\u001b[0m\u001b[0;34m\u001b[0m\u001b[0m\n\u001b[1;32m    107\u001b[0m                     \u001b[0mn_hba1c\u001b[0m \u001b[0;34m+=\u001b[0m \u001b[0;36m1\u001b[0m\u001b[0;34m\u001b[0m\u001b[0;34m\u001b[0m\u001b[0m\n",
      "\u001b[0;32m~/transformer_final/Model/events.py\u001b[0m in \u001b[0;36mget_val\u001b[0;34m(self)\u001b[0m\n\u001b[1;32m     97\u001b[0m                 \u001b[0mv_d\u001b[0m\u001b[0;34m[\u001b[0m\u001b[0mself\u001b[0m\u001b[0;34m.\u001b[0m\u001b[0mcod\u001b[0m\u001b[0;34m]\u001b[0m \u001b[0;34m=\u001b[0m \u001b[0mself\u001b[0m\u001b[0;34m.\u001b[0m\u001b[0mval\u001b[0m\u001b[0;34m\u001b[0m\u001b[0;34m\u001b[0m\u001b[0m\n\u001b[1;32m     98\u001b[0m \u001b[0;34m\u001b[0m\u001b[0m\n\u001b[0;32m---> 99\u001b[0;31m         \u001b[0mv_m\u001b[0m \u001b[0;34m=\u001b[0m \u001b[0mnp\u001b[0m\u001b[0;34m.\u001b[0m\u001b[0mzeros\u001b[0m\u001b[0;34m(\u001b[0m\u001b[0mnp\u001b[0m\u001b[0;34m.\u001b[0m\u001b[0msize\u001b[0m\u001b[0;34m(\u001b[0m\u001b[0mcods_list\u001b[0m\u001b[0;34m[\u001b[0m\u001b[0;34m'drugs'\u001b[0m\u001b[0;34m]\u001b[0m\u001b[0;34m)\u001b[0m\u001b[0;34m)\u001b[0m\u001b[0;34m\u001b[0m\u001b[0;34m\u001b[0m\u001b[0m\n\u001b[0m\u001b[1;32m    100\u001b[0m         \u001b[0;32mif\u001b[0m \u001b[0mself\u001b[0m\u001b[0;34m.\u001b[0m\u001b[0mtp\u001b[0m\u001b[0;34m==\u001b[0m\u001b[0;34m'm'\u001b[0m\u001b[0;34m:\u001b[0m \u001b[0mv_m\u001b[0m\u001b[0;34m[\u001b[0m\u001b[0mself\u001b[0m\u001b[0;34m.\u001b[0m\u001b[0mcod\u001b[0m\u001b[0;34m]\u001b[0m \u001b[0;34m=\u001b[0m \u001b[0mself\u001b[0m\u001b[0;34m.\u001b[0m\u001b[0mval\u001b[0m\u001b[0;34m\u001b[0m\u001b[0;34m\u001b[0m\u001b[0m\n\u001b[1;32m    101\u001b[0m \u001b[0;34m\u001b[0m\u001b[0m\n",
      "\u001b[0;31mKeyboardInterrupt\u001b[0m: "
     ]
    }
   ],
   "source": [
    "epochs = 20\n",
    "loss = WeigthedBCELoss(weights=weights_classes, device=device)\n",
    "\n",
    "for st_it, opt in states.items():\n",
    "    res_path = f'/home/enrico/transformer/results/FT_diags_prediction/weigthed_BCE/BERTlearn_rnn_2_100_50_10_CROSS_{st_it}_with_labs.pkl'\n",
    "    if False: #os.path.isfile(res_path):\n",
    "        with open(res_path, 'rb') as f:\n",
    "            losses = pickle.load(f)\n",
    "        k_start = len(losses)\n",
    "    else:\n",
    "        losses = {}\n",
    "        k_start = 0\n",
    "    k = 0\n",
    "    for state in opt['states']:\n",
    "        kf = KFold(n_splits=opt['k'], shuffle=True, random_state=state)\n",
    "        for i, (train_indices, val_indices) in enumerate(kf.split(ds)):\n",
    "        \n",
    "            print(f'START ITERATION {k+1}')\n",
    "            if k >= k_start and k <=10:\n",
    "                # get data loaders\n",
    "                if opt['train_val']:\n",
    "                    train_sampler = SubsetRandomSampler(train_indices)\n",
    "                    valid_sampler = SubsetRandomSampler(val_indices)\n",
    "                else:\n",
    "                    train_sampler = SubsetRandomSampler(val_indices)\n",
    "                    valid_sampler = SubsetRandomSampler(train_indices)\n",
    "                train_loader = torch.utils.data.DataLoader(ds, batch_size=64, sampler=train_sampler)\n",
    "                validation_loader = torch.utils.data.DataLoader(ds, batch_size=256, sampler=valid_sampler)\n",
    "            \n",
    "                # get model\n",
    "                model = rnn_diags(bert.hidden, 2, [100,50,34])\n",
    "                model.to(device)\n",
    "                optim = torch.optim.Adam(model.parameters())\n",
    "            \n",
    "                # train and test\n",
    "                losses_tmp = {}\n",
    "                max_roc = 0\n",
    "                es = EarlyStopping()\n",
    "                for ep in range(epochs):\n",
    "                    losses_tmp[f'train_{i}'] = train_iteration(model, train_loader, ep,100)\n",
    "                    res, labs_i, preds_i, idps_i = test_iteration(model, validation_loader, ep,100)\n",
    "                    losses_tmp[f'test_{ep}'] = res\n",
    "                    if res['avg_roc'] >= max_roc:\n",
    "                        max_roc = res['avg_roc']\n",
    "                        losses_tmp['labs'] = labs_i.numpy()\n",
    "                        losses_tmp['pred'] = preds_i.numpy()\n",
    "                        losses_tmp['idps'] = idps_i\n",
    "                        \n",
    "                    # early stopping\n",
    "                    es(res['avg_roc'])\n",
    "                    if es.early_stop:\n",
    "                        print(\"Early stop at epoch:\", ep)\n",
    "                        break\n",
    "                \n",
    "                del model    \n",
    "                losses[f'K_{k}'] = losses_tmp\n",
    "                break\n",
    "            break\n",
    "            \n",
    "            #k +=1\n",
    "            #print('------------------------------------------------------------------')\n",
    "            #print()\n",
    "            #with open(res_path, 'wb') as outp:\n",
    "            #    pickle.dump(losses, outp)"
   ]
  },
  {
   "cell_type": "code",
   "execution_count": 12,
   "id": "dad549f4-2eda-4e6e-9798-66667f424105",
   "metadata": {
    "tags": []
   },
   "outputs": [
    {
     "data": {
      "text/plain": [
       "array([[2.55449591, 0.61147619, 0.63088829, 0.59991361, 0.52707033],\n",
       "       [0.62168435, 2.74263146, 2.41002571, 3.00216156, 9.73520249]])"
      ]
     },
     "execution_count": 12,
     "metadata": {},
     "output_type": "execute_result"
    }
   ],
   "source": [
    "weights_classes"
   ]
  },
  {
   "cell_type": "code",
   "execution_count": 32,
   "id": "7772c09c-dae7-48e2-bfdf-31668ae896aa",
   "metadata": {
    "tags": []
   },
   "outputs": [
    {
     "data": {
      "text/plain": [
       "array([[2.55449591, 0.61147619, 0.63088829, 0.59991361, 0.52707033],\n",
       "       [0.62168435, 2.74263146, 2.41002571, 3.00216156, 9.73520249]])"
      ]
     },
     "execution_count": 32,
     "metadata": {},
     "output_type": "execute_result"
    }
   ],
   "source": [
    "array([[2.55449591, 0.61147619, 0.63088829, 0.59991361, 0.52707033],\n",
    "       [0.62168435, 2.74263146, 2.41002571, 3.00216156, 9.73520249]])"
   ]
  },
  {
   "cell_type": "code",
   "execution_count": null,
   "id": "57efc15e-1cc8-4710-9cfc-85d08b2c155a",
   "metadata": {},
   "outputs": [],
   "source": []
  },
  {
   "cell_type": "code",
   "execution_count": null,
   "id": "cee42d3c-4df9-4f55-8832-1f44ad8f8ae4",
   "metadata": {},
   "outputs": [],
   "source": []
  },
  {
   "cell_type": "code",
   "execution_count": 8,
   "id": "78f28234-ac25-4868-8854-7fe045f90ca7",
   "metadata": {
    "tags": []
   },
   "outputs": [],
   "source": [
    "ds = Dataset_PT(paths, config)"
   ]
  },
  {
   "cell_type": "code",
   "execution_count": 9,
   "id": "612047c7-f6cf-49ba-bf82-54cfe9f32589",
   "metadata": {
    "tags": []
   },
   "outputs": [
    {
     "name": "stdout",
     "output_type": "stream",
     "text": [
      "2013 33ef01a1f9ecf88c38c9766721bc033b0aca0ba8\n",
      "2013 c61f2111fb067032c49fe260d676c16094d200a5\n",
      "2013 e594672c7c686c017449339c95da8158c4ebe733\n",
      "2013 aaffa604b0245ac44390f5c347060828c4991d97\n",
      "2013 8dde0981a0bde9a50285768ec1a8a7da3d690d6b\n"
     ]
    }
   ],
   "source": [
    "dl = DataLoader(ds, 5)\n",
    "for data in dl:\n",
    "    break"
   ]
  },
  {
   "cell_type": "code",
   "execution_count": 2,
   "id": "6cc7b2fc-6d70-4201-b570-8d3d9dd421ad",
   "metadata": {
    "tags": []
   },
   "outputs": [],
   "source": [
    "from Model.bert_PT import BERT_PT\n",
    "from Model.bert import BERT"
   ]
  },
  {
   "cell_type": "code",
   "execution_count": 3,
   "id": "9ae9fd58-c1a4-4c75-9a3d-e660095ff5ab",
   "metadata": {
    "tags": []
   },
   "outputs": [],
   "source": [
    "def import_bert(config, epoch, model_path=None, device=None, n_diags=None, n_drugs=None, n_vars=None):\n",
    "    \n",
    "    if model_path is None:\n",
    "        if config.Model.relative:\n",
    "            model_name = f'BERT_PT_R_attnheads{config.Model.attn_heads}_hiddens{config.Model.hidden}_layers{config.Model.n_layers}'\n",
    "        else:\n",
    "            model_name = f'BERT_PT_attnheads{config.Model.attn_heads}_hiddens{config.Model.hidden}_layers{config.Model.n_layers}'\n",
    "        model_path = os.path.join('/home/enrico/transformer_final/Results/Models_pretrained/', model_name+\".ep%d\" % epoch)\n",
    "    if not os.path.exists(model_path):\n",
    "        raise ModuleNotFoundError(f'file \"{model_path}\" not found, please provide a valid path')\n",
    "        \n",
    "    if device is None:\n",
    "        device = torch.device(\"cuda\" if torch.cuda.is_available() else \"cpu\")\n",
    "        \n",
    "    model = BERT_PT(BERT(config), n_diags, n_drugs, n_vars)\n",
    "    model.load_state_dict(torch.load(model_path, map_location=device))\n",
    "    return model.bert"
   ]
  },
  {
   "cell_type": "code",
   "execution_count": 5,
   "id": "8fd083af-f046-4879-af58-d662ff2f586d",
   "metadata": {
    "tags": []
   },
   "outputs": [],
   "source": [
    "bert = import_bert(config, 9)"
   ]
  },
  {
   "cell_type": "code",
   "execution_count": 6,
   "id": "03898bd0-0b3d-4a1c-82ae-fd8540f9fcaf",
   "metadata": {
    "tags": []
   },
   "outputs": [],
   "source": [
    "bert = BERT(config)\n",
    "model = BERT_PT(bert)"
   ]
  },
  {
   "cell_type": "code",
   "execution_count": 10,
   "id": "9a29bb65-3b80-450d-9f83-6cd18845ab52",
   "metadata": {
    "tags": []
   },
   "outputs": [],
   "source": [
    "res = model(data)"
   ]
  },
  {
   "cell_type": "code",
   "execution_count": 16,
   "id": "5a11a3fa-81a4-401d-a738-d0abf68aedcb",
   "metadata": {},
   "outputs": [
    {
     "data": {
      "text/plain": [
       "torch.Size([5, 2])"
      ]
     },
     "execution_count": 16,
     "metadata": {},
     "output_type": "execute_result"
    }
   ],
   "source": [
    "res[2].shape"
   ]
  },
  {
   "cell_type": "code",
   "execution_count": 23,
   "id": "d2970c8a-4439-4892-9539-912b06b3d62e",
   "metadata": {
    "tags": []
   },
   "outputs": [],
   "source": [
    "epoch = 9\n",
    "if config.Model.relative:\n",
    "    model_name = f'BERT_PT_R_attnheads{config.Model.attn_heads}_hiddens{config.Model.hidden}_layers{config.Model.n_layers}'\n",
    "else:\n",
    "    model_name = f'BERT_PT_attnheads{config.Model.attn_heads}_hiddens{config.Model.hiddens}_layers{config.Model.n_layers}'\n",
    "model_path = os.path.join('/home/enrico/transformer_final/Results/Models_pretrained/', model_name+\".ep%d\" % epoch)"
   ]
  },
  {
   "cell_type": "code",
   "execution_count": 24,
   "id": "340367e7-233b-42ad-bea8-c10eb55c9198",
   "metadata": {
    "tags": []
   },
   "outputs": [
    {
     "data": {
      "text/plain": [
       "True"
      ]
     },
     "execution_count": 24,
     "metadata": {},
     "output_type": "execute_result"
    }
   ],
   "source": [
    "os.path.exists(model_path)"
   ]
  },
  {
   "cell_type": "code",
   "execution_count": 26,
   "id": "7dac3d3d-27ea-485a-a9f5-cd5356df5260",
   "metadata": {
    "tags": []
   },
   "outputs": [
    {
     "ename": "ModuleNotFoundError",
     "evalue": "file \"/home/enrico/transformer_final/Results/Models_pretrained/BERT_PT_R_attnheads18_hiddens360_layers3.ep9\" not found, please provide a valid path",
     "output_type": "error",
     "traceback": [
      "\u001b[0;31m---------------------------------------------------------------------------\u001b[0m",
      "\u001b[0;31mModuleNotFoundError\u001b[0m                       Traceback (most recent call last)",
      "Cell \u001b[0;32mIn[26], line 1\u001b[0m\n\u001b[0;32m----> 1\u001b[0m \u001b[38;5;28;01mraise\u001b[39;00m \u001b[38;5;167;01mModuleNotFoundError\u001b[39;00m(\u001b[38;5;124mf\u001b[39m\u001b[38;5;124m'\u001b[39m\u001b[38;5;124mfile \u001b[39m\u001b[38;5;124m\"\u001b[39m\u001b[38;5;132;01m{\u001b[39;00mmodel_path\u001b[38;5;132;01m}\u001b[39;00m\u001b[38;5;124m\"\u001b[39m\u001b[38;5;124m not found, please provide a valid path\u001b[39m\u001b[38;5;124m'\u001b[39m)\n",
      "\u001b[0;31mModuleNotFoundError\u001b[0m: file \"/home/enrico/transformer_final/Results/Models_pretrained/BERT_PT_R_attnheads18_hiddens360_layers3.ep9\" not found, please provide a valid path"
     ]
    }
   ],
   "source": [
    "raise ModuleNotFoundError(f'file \"{model_path}\" not found, please provide a valid path')"
   ]
  },
  {
   "cell_type": "code",
   "execution_count": null,
   "id": "303329a2-f6aa-48ce-958a-a670c695f3d2",
   "metadata": {},
   "outputs": [],
   "source": []
  }
 ],
 "metadata": {
  "kernelspec": {
   "display_name": "bert",
   "language": "python",
   "name": "bert"
  },
  "language_info": {
   "codemirror_mode": {
    "name": "ipython",
    "version": 3
   },
   "file_extension": ".py",
   "mimetype": "text/x-python",
   "name": "python",
   "nbconvert_exporter": "python",
   "pygments_lexer": "ipython3",
   "version": "3.8.10"
  }
 },
 "nbformat": 4,
 "nbformat_minor": 5
}
